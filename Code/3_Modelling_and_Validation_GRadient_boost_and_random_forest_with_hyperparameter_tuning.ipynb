{
 "cells": [
  {
   "cell_type": "code",
   "execution_count": 16,
   "metadata": {},
   "outputs": [],
   "source": [
    "import pandas as pd\n",
    "import numpy as np\n",
    "import scipy\n",
    "import matplotlib.pyplot as plt\n",
    "import math\n",
    "from sklearn.linear_model import LinearRegression\n",
    "import seaborn as sns\n",
    "from sklearn.preprocessing import LabelEncoder\n",
    "from sklearn.preprocessing import OneHotEncoder\n",
    "import sklearn\n",
    "from sklearn import ensemble\n",
    "from sklearn.metrics import mean_squared_error\n",
    "from sklearn.ensemble import RandomForestRegressor\n",
    "import pickle\n",
    "from scipy.stats import uniform \n",
    "from sklearn.model_selection import RandomizedSearchCV\n",
    "from sklearn.linear_model import Ridge\n",
    "from sklearn.linear_model import Lasso\n",
    "import matplotlib.pyplot as plt"
   ]
  },
  {
   "cell_type": "code",
   "execution_count": 2,
   "metadata": {},
   "outputs": [],
   "source": [
    "df = pd.read_csv(r\"D:\\All_Docs\\Masters\\CS 584 Machine Learning\\Project\\Data\\cleaned2.csv\")"
   ]
  },
  {
   "cell_type": "code",
   "execution_count": 3,
   "metadata": {},
   "outputs": [
    {
     "data": {
      "text/html": [
       "<div>\n",
       "<style scoped>\n",
       "    .dataframe tbody tr th:only-of-type {\n",
       "        vertical-align: middle;\n",
       "    }\n",
       "\n",
       "    .dataframe tbody tr th {\n",
       "        vertical-align: top;\n",
       "    }\n",
       "\n",
       "    .dataframe thead th {\n",
       "        text-align: right;\n",
       "    }\n",
       "</style>\n",
       "<table border=\"1\" class=\"dataframe\">\n",
       "  <thead>\n",
       "    <tr style=\"text-align: right;\">\n",
       "      <th></th>\n",
       "      <th>Unnamed: 0</th>\n",
       "      <th>price</th>\n",
       "      <th>year</th>\n",
       "      <th>manufacturer</th>\n",
       "      <th>condition</th>\n",
       "      <th>cylinders</th>\n",
       "      <th>fuel</th>\n",
       "      <th>odometer</th>\n",
       "      <th>title_status</th>\n",
       "      <th>transmission</th>\n",
       "      <th>drive</th>\n",
       "      <th>type</th>\n",
       "      <th>state</th>\n",
       "    </tr>\n",
       "  </thead>\n",
       "  <tbody>\n",
       "    <tr>\n",
       "      <th>0</th>\n",
       "      <td>0</td>\n",
       "      <td>35990</td>\n",
       "      <td>2010.0</td>\n",
       "      <td>chevrolet</td>\n",
       "      <td>good</td>\n",
       "      <td>8 cylinders</td>\n",
       "      <td>gas</td>\n",
       "      <td>32742.0</td>\n",
       "      <td>clean</td>\n",
       "      <td>other</td>\n",
       "      <td>2</td>\n",
       "      <td>other</td>\n",
       "      <td>south</td>\n",
       "    </tr>\n",
       "    <tr>\n",
       "      <th>1</th>\n",
       "      <td>1</td>\n",
       "      <td>7500</td>\n",
       "      <td>2014.0</td>\n",
       "      <td>hyundai</td>\n",
       "      <td>excellent</td>\n",
       "      <td>4 cylinders</td>\n",
       "      <td>gas</td>\n",
       "      <td>93600.0</td>\n",
       "      <td>clean</td>\n",
       "      <td>automatic</td>\n",
       "      <td>2</td>\n",
       "      <td>sedan</td>\n",
       "      <td>south</td>\n",
       "    </tr>\n",
       "    <tr>\n",
       "      <th>2</th>\n",
       "      <td>2</td>\n",
       "      <td>4900</td>\n",
       "      <td>2006.0</td>\n",
       "      <td>bmw</td>\n",
       "      <td>good</td>\n",
       "      <td>6 cylinders</td>\n",
       "      <td>gas</td>\n",
       "      <td>87046.0</td>\n",
       "      <td>clean</td>\n",
       "      <td>automatic</td>\n",
       "      <td>2</td>\n",
       "      <td>SUV</td>\n",
       "      <td>south</td>\n",
       "    </tr>\n",
       "    <tr>\n",
       "      <th>3</th>\n",
       "      <td>5</td>\n",
       "      <td>29590</td>\n",
       "      <td>2016.0</td>\n",
       "      <td>toyota</td>\n",
       "      <td>good</td>\n",
       "      <td>6 cylinders</td>\n",
       "      <td>gas</td>\n",
       "      <td>33290.0</td>\n",
       "      <td>clean</td>\n",
       "      <td>other</td>\n",
       "      <td>4</td>\n",
       "      <td>pickup</td>\n",
       "      <td>south</td>\n",
       "    </tr>\n",
       "    <tr>\n",
       "      <th>4</th>\n",
       "      <td>6</td>\n",
       "      <td>39990</td>\n",
       "      <td>2012.0</td>\n",
       "      <td>ford</td>\n",
       "      <td>good</td>\n",
       "      <td>8 cylinders</td>\n",
       "      <td>gas</td>\n",
       "      <td>9692.0</td>\n",
       "      <td>clean</td>\n",
       "      <td>other</td>\n",
       "      <td>2</td>\n",
       "      <td>coupe</td>\n",
       "      <td>south</td>\n",
       "    </tr>\n",
       "  </tbody>\n",
       "</table>\n",
       "</div>"
      ],
      "text/plain": [
       "   Unnamed: 0  price    year manufacturer  condition    cylinders fuel  \\\n",
       "0           0  35990  2010.0    chevrolet       good  8 cylinders  gas   \n",
       "1           1   7500  2014.0      hyundai  excellent  4 cylinders  gas   \n",
       "2           2   4900  2006.0          bmw       good  6 cylinders  gas   \n",
       "3           5  29590  2016.0       toyota       good  6 cylinders  gas   \n",
       "4           6  39990  2012.0         ford       good  8 cylinders  gas   \n",
       "\n",
       "   odometer title_status transmission  drive    type  state  \n",
       "0   32742.0        clean        other      2   other  south  \n",
       "1   93600.0        clean    automatic      2   sedan  south  \n",
       "2   87046.0        clean    automatic      2     SUV  south  \n",
       "3   33290.0        clean        other      4  pickup  south  \n",
       "4    9692.0        clean        other      2   coupe  south  "
      ]
     },
     "execution_count": 3,
     "metadata": {},
     "output_type": "execute_result"
    }
   ],
   "source": [
    "df.head()"
   ]
  },
  {
   "cell_type": "code",
   "execution_count": 4,
   "metadata": {},
   "outputs": [],
   "source": [
    "df[\"price\"]=np.log1p(df[\"price\"])"
   ]
  },
  {
   "cell_type": "markdown",
   "metadata": {},
   "source": [
    "## Encoding"
   ]
  },
  {
   "cell_type": "markdown",
   "metadata": {},
   "source": [
    "### For Numerical Data"
   ]
  },
  {
   "cell_type": "markdown",
   "metadata": {},
   "source": [
    "#### year"
   ]
  },
  {
   "cell_type": "code",
   "execution_count": 5,
   "metadata": {},
   "outputs": [],
   "source": [
    "year_min = df[\"year\"].min()\n",
    "year_max = df[\"year\"].max()\n",
    "df[\"year\"] = ((df[\"year\"] - year_min) / (year_max - year_min))"
   ]
  },
  {
   "cell_type": "markdown",
   "metadata": {},
   "source": [
    "#### odometer"
   ]
  },
  {
   "cell_type": "code",
   "execution_count": 6,
   "metadata": {},
   "outputs": [],
   "source": [
    "odo_min = df[\"odometer\"].min()\n",
    "odo_max = df[\"odometer\"].max()\n",
    "df[\"odometer\"] = ((df[\"odometer\"] - odo_min) / (odo_max - odo_min))"
   ]
  },
  {
   "cell_type": "markdown",
   "metadata": {},
   "source": [
    "### For Ordinal Data"
   ]
  },
  {
   "cell_type": "markdown",
   "metadata": {},
   "source": [
    "#### cylinders"
   ]
  },
  {
   "cell_type": "code",
   "execution_count": 7,
   "metadata": {},
   "outputs": [],
   "source": [
    "label_encoder = LabelEncoder()\n",
    "label_encoder.fit_transform(list(df['cylinders'].astype(str).values))\n",
    "df['cylinders'] = label_encoder.transform(list(df['cylinders'].astype(str).values))"
   ]
  },
  {
   "cell_type": "code",
   "execution_count": 8,
   "metadata": {},
   "outputs": [],
   "source": [
    "#Normalizing Cylinder\n",
    "cyl_min = df[\"cylinders\"].min()\n",
    "cyl_max = df[\"cylinders\"].max()\n",
    "df[\"cylinders\"] = ((df[\"cylinders\"] - cyl_min) / (cyl_max - cyl_min))"
   ]
  },
  {
   "cell_type": "markdown",
   "metadata": {},
   "source": [
    "### OneHotEncoding"
   ]
  },
  {
   "cell_type": "code",
   "execution_count": 9,
   "metadata": {},
   "outputs": [],
   "source": [
    "train_df = pd.get_dummies(df)"
   ]
  },
  {
   "cell_type": "code",
   "execution_count": 10,
   "metadata": {},
   "outputs": [
    {
     "data": {
      "text/plain": [
       "318824"
      ]
     },
     "execution_count": 10,
     "metadata": {},
     "output_type": "execute_result"
    }
   ],
   "source": [
    "len(train_df)"
   ]
  },
  {
   "cell_type": "code",
   "execution_count": 11,
   "metadata": {},
   "outputs": [
    {
     "data": {
      "text/html": [
       "<div>\n",
       "<style scoped>\n",
       "    .dataframe tbody tr th:only-of-type {\n",
       "        vertical-align: middle;\n",
       "    }\n",
       "\n",
       "    .dataframe tbody tr th {\n",
       "        vertical-align: top;\n",
       "    }\n",
       "\n",
       "    .dataframe thead th {\n",
       "        text-align: right;\n",
       "    }\n",
       "</style>\n",
       "<table border=\"1\" class=\"dataframe\">\n",
       "  <thead>\n",
       "    <tr style=\"text-align: right;\">\n",
       "      <th></th>\n",
       "      <th>Unnamed: 0</th>\n",
       "      <th>price</th>\n",
       "      <th>year</th>\n",
       "      <th>cylinders</th>\n",
       "      <th>odometer</th>\n",
       "      <th>drive</th>\n",
       "      <th>manufacturer_acura</th>\n",
       "      <th>manufacturer_alfa-romeo</th>\n",
       "      <th>manufacturer_aston-martin</th>\n",
       "      <th>manufacturer_audi</th>\n",
       "      <th>...</th>\n",
       "      <th>type_other</th>\n",
       "      <th>type_pickup</th>\n",
       "      <th>type_sedan</th>\n",
       "      <th>type_truck</th>\n",
       "      <th>type_van</th>\n",
       "      <th>type_wagon</th>\n",
       "      <th>state_midwest</th>\n",
       "      <th>state_northeast</th>\n",
       "      <th>state_south</th>\n",
       "      <th>state_west</th>\n",
       "    </tr>\n",
       "  </thead>\n",
       "  <tbody>\n",
       "    <tr>\n",
       "      <th>0</th>\n",
       "      <td>0</td>\n",
       "      <td>10.491024</td>\n",
       "      <td>0.583333</td>\n",
       "      <td>0.857143</td>\n",
       "      <td>0.130950</td>\n",
       "      <td>2</td>\n",
       "      <td>0</td>\n",
       "      <td>0</td>\n",
       "      <td>0</td>\n",
       "      <td>0</td>\n",
       "      <td>...</td>\n",
       "      <td>1</td>\n",
       "      <td>0</td>\n",
       "      <td>0</td>\n",
       "      <td>0</td>\n",
       "      <td>0</td>\n",
       "      <td>0</td>\n",
       "      <td>0</td>\n",
       "      <td>0</td>\n",
       "      <td>1</td>\n",
       "      <td>0</td>\n",
       "    </tr>\n",
       "    <tr>\n",
       "      <th>1</th>\n",
       "      <td>1</td>\n",
       "      <td>8.922792</td>\n",
       "      <td>0.750000</td>\n",
       "      <td>0.428571</td>\n",
       "      <td>0.374431</td>\n",
       "      <td>2</td>\n",
       "      <td>0</td>\n",
       "      <td>0</td>\n",
       "      <td>0</td>\n",
       "      <td>0</td>\n",
       "      <td>...</td>\n",
       "      <td>0</td>\n",
       "      <td>0</td>\n",
       "      <td>1</td>\n",
       "      <td>0</td>\n",
       "      <td>0</td>\n",
       "      <td>0</td>\n",
       "      <td>0</td>\n",
       "      <td>0</td>\n",
       "      <td>1</td>\n",
       "      <td>0</td>\n",
       "    </tr>\n",
       "    <tr>\n",
       "      <th>2</th>\n",
       "      <td>2</td>\n",
       "      <td>8.497195</td>\n",
       "      <td>0.416667</td>\n",
       "      <td>0.714286</td>\n",
       "      <td>0.348210</td>\n",
       "      <td>2</td>\n",
       "      <td>0</td>\n",
       "      <td>0</td>\n",
       "      <td>0</td>\n",
       "      <td>0</td>\n",
       "      <td>...</td>\n",
       "      <td>0</td>\n",
       "      <td>0</td>\n",
       "      <td>0</td>\n",
       "      <td>0</td>\n",
       "      <td>0</td>\n",
       "      <td>0</td>\n",
       "      <td>0</td>\n",
       "      <td>0</td>\n",
       "      <td>1</td>\n",
       "      <td>0</td>\n",
       "    </tr>\n",
       "    <tr>\n",
       "      <th>3</th>\n",
       "      <td>5</td>\n",
       "      <td>10.295226</td>\n",
       "      <td>0.833333</td>\n",
       "      <td>0.714286</td>\n",
       "      <td>0.133143</td>\n",
       "      <td>4</td>\n",
       "      <td>0</td>\n",
       "      <td>0</td>\n",
       "      <td>0</td>\n",
       "      <td>0</td>\n",
       "      <td>...</td>\n",
       "      <td>0</td>\n",
       "      <td>1</td>\n",
       "      <td>0</td>\n",
       "      <td>0</td>\n",
       "      <td>0</td>\n",
       "      <td>0</td>\n",
       "      <td>0</td>\n",
       "      <td>0</td>\n",
       "      <td>1</td>\n",
       "      <td>0</td>\n",
       "    </tr>\n",
       "    <tr>\n",
       "      <th>4</th>\n",
       "      <td>6</td>\n",
       "      <td>10.596410</td>\n",
       "      <td>0.666667</td>\n",
       "      <td>0.857143</td>\n",
       "      <td>0.038732</td>\n",
       "      <td>2</td>\n",
       "      <td>0</td>\n",
       "      <td>0</td>\n",
       "      <td>0</td>\n",
       "      <td>0</td>\n",
       "      <td>...</td>\n",
       "      <td>0</td>\n",
       "      <td>0</td>\n",
       "      <td>0</td>\n",
       "      <td>0</td>\n",
       "      <td>0</td>\n",
       "      <td>0</td>\n",
       "      <td>0</td>\n",
       "      <td>0</td>\n",
       "      <td>1</td>\n",
       "      <td>0</td>\n",
       "    </tr>\n",
       "  </tbody>\n",
       "</table>\n",
       "<p>5 rows × 80 columns</p>\n",
       "</div>"
      ],
      "text/plain": [
       "   Unnamed: 0      price      year  cylinders  odometer  drive  \\\n",
       "0           0  10.491024  0.583333   0.857143  0.130950      2   \n",
       "1           1   8.922792  0.750000   0.428571  0.374431      2   \n",
       "2           2   8.497195  0.416667   0.714286  0.348210      2   \n",
       "3           5  10.295226  0.833333   0.714286  0.133143      4   \n",
       "4           6  10.596410  0.666667   0.857143  0.038732      2   \n",
       "\n",
       "   manufacturer_acura  manufacturer_alfa-romeo  manufacturer_aston-martin  \\\n",
       "0                   0                        0                          0   \n",
       "1                   0                        0                          0   \n",
       "2                   0                        0                          0   \n",
       "3                   0                        0                          0   \n",
       "4                   0                        0                          0   \n",
       "\n",
       "   manufacturer_audi  ...  type_other  type_pickup  type_sedan  type_truck  \\\n",
       "0                  0  ...           1            0           0           0   \n",
       "1                  0  ...           0            0           1           0   \n",
       "2                  0  ...           0            0           0           0   \n",
       "3                  0  ...           0            1           0           0   \n",
       "4                  0  ...           0            0           0           0   \n",
       "\n",
       "   type_van  type_wagon  state_midwest  state_northeast  state_south  \\\n",
       "0         0           0              0                0            1   \n",
       "1         0           0              0                0            1   \n",
       "2         0           0              0                0            1   \n",
       "3         0           0              0                0            1   \n",
       "4         0           0              0                0            1   \n",
       "\n",
       "   state_west  \n",
       "0           0  \n",
       "1           0  \n",
       "2           0  \n",
       "3           0  \n",
       "4           0  \n",
       "\n",
       "[5 rows x 80 columns]"
      ]
     },
     "execution_count": 11,
     "metadata": {},
     "output_type": "execute_result"
    }
   ],
   "source": [
    "train_df.head()"
   ]
  },
  {
   "cell_type": "markdown",
   "metadata": {},
   "source": [
    "### Splitting the Data into test and train"
   ]
  },
  {
   "cell_type": "code",
   "execution_count": 12,
   "metadata": {},
   "outputs": [],
   "source": [
    "y = train_df[\"price\"]\n",
    "x = train_df.drop(['price', 'Unnamed: 0'], axis=1)\n",
    "x_train,x_test,y_train,y_test = sklearn.model_selection.train_test_split(x,y,test_size=0.2,random_state=42)"
   ]
  },
  {
   "cell_type": "code",
   "execution_count": 13,
   "metadata": {},
   "outputs": [
    {
     "data": {
      "text/html": [
       "<div>\n",
       "<style scoped>\n",
       "    .dataframe tbody tr th:only-of-type {\n",
       "        vertical-align: middle;\n",
       "    }\n",
       "\n",
       "    .dataframe tbody tr th {\n",
       "        vertical-align: top;\n",
       "    }\n",
       "\n",
       "    .dataframe thead th {\n",
       "        text-align: right;\n",
       "    }\n",
       "</style>\n",
       "<table border=\"1\" class=\"dataframe\">\n",
       "  <thead>\n",
       "    <tr style=\"text-align: right;\">\n",
       "      <th></th>\n",
       "      <th>year</th>\n",
       "      <th>cylinders</th>\n",
       "      <th>odometer</th>\n",
       "      <th>drive</th>\n",
       "      <th>manufacturer_acura</th>\n",
       "      <th>manufacturer_alfa-romeo</th>\n",
       "      <th>manufacturer_aston-martin</th>\n",
       "      <th>manufacturer_audi</th>\n",
       "      <th>manufacturer_bmw</th>\n",
       "      <th>manufacturer_buick</th>\n",
       "      <th>...</th>\n",
       "      <th>type_other</th>\n",
       "      <th>type_pickup</th>\n",
       "      <th>type_sedan</th>\n",
       "      <th>type_truck</th>\n",
       "      <th>type_van</th>\n",
       "      <th>type_wagon</th>\n",
       "      <th>state_midwest</th>\n",
       "      <th>state_northeast</th>\n",
       "      <th>state_south</th>\n",
       "      <th>state_west</th>\n",
       "    </tr>\n",
       "  </thead>\n",
       "  <tbody>\n",
       "    <tr>\n",
       "      <th>220052</th>\n",
       "      <td>0.958333</td>\n",
       "      <td>0.714286</td>\n",
       "      <td>0.040324</td>\n",
       "      <td>2</td>\n",
       "      <td>0</td>\n",
       "      <td>0</td>\n",
       "      <td>0</td>\n",
       "      <td>0</td>\n",
       "      <td>0</td>\n",
       "      <td>0</td>\n",
       "      <td>...</td>\n",
       "      <td>0</td>\n",
       "      <td>1</td>\n",
       "      <td>0</td>\n",
       "      <td>0</td>\n",
       "      <td>0</td>\n",
       "      <td>0</td>\n",
       "      <td>0</td>\n",
       "      <td>0</td>\n",
       "      <td>1</td>\n",
       "      <td>0</td>\n",
       "    </tr>\n",
       "    <tr>\n",
       "      <th>10665</th>\n",
       "      <td>0.333333</td>\n",
       "      <td>0.428571</td>\n",
       "      <td>0.273475</td>\n",
       "      <td>2</td>\n",
       "      <td>0</td>\n",
       "      <td>0</td>\n",
       "      <td>0</td>\n",
       "      <td>0</td>\n",
       "      <td>0</td>\n",
       "      <td>0</td>\n",
       "      <td>...</td>\n",
       "      <td>0</td>\n",
       "      <td>0</td>\n",
       "      <td>0</td>\n",
       "      <td>0</td>\n",
       "      <td>0</td>\n",
       "      <td>0</td>\n",
       "      <td>0</td>\n",
       "      <td>0</td>\n",
       "      <td>0</td>\n",
       "      <td>1</td>\n",
       "    </tr>\n",
       "    <tr>\n",
       "      <th>102772</th>\n",
       "      <td>0.750000</td>\n",
       "      <td>0.428571</td>\n",
       "      <td>0.308018</td>\n",
       "      <td>2</td>\n",
       "      <td>0</td>\n",
       "      <td>0</td>\n",
       "      <td>0</td>\n",
       "      <td>0</td>\n",
       "      <td>0</td>\n",
       "      <td>0</td>\n",
       "      <td>...</td>\n",
       "      <td>0</td>\n",
       "      <td>0</td>\n",
       "      <td>1</td>\n",
       "      <td>0</td>\n",
       "      <td>0</td>\n",
       "      <td>0</td>\n",
       "      <td>1</td>\n",
       "      <td>0</td>\n",
       "      <td>0</td>\n",
       "      <td>0</td>\n",
       "    </tr>\n",
       "    <tr>\n",
       "      <th>90016</th>\n",
       "      <td>0.791667</td>\n",
       "      <td>0.428571</td>\n",
       "      <td>0.528394</td>\n",
       "      <td>4</td>\n",
       "      <td>0</td>\n",
       "      <td>0</td>\n",
       "      <td>0</td>\n",
       "      <td>0</td>\n",
       "      <td>0</td>\n",
       "      <td>0</td>\n",
       "      <td>...</td>\n",
       "      <td>0</td>\n",
       "      <td>0</td>\n",
       "      <td>1</td>\n",
       "      <td>0</td>\n",
       "      <td>0</td>\n",
       "      <td>0</td>\n",
       "      <td>0</td>\n",
       "      <td>0</td>\n",
       "      <td>0</td>\n",
       "      <td>1</td>\n",
       "    </tr>\n",
       "    <tr>\n",
       "      <th>294161</th>\n",
       "      <td>0.708333</td>\n",
       "      <td>1.000000</td>\n",
       "      <td>0.386033</td>\n",
       "      <td>4</td>\n",
       "      <td>0</td>\n",
       "      <td>0</td>\n",
       "      <td>0</td>\n",
       "      <td>0</td>\n",
       "      <td>0</td>\n",
       "      <td>0</td>\n",
       "      <td>...</td>\n",
       "      <td>0</td>\n",
       "      <td>0</td>\n",
       "      <td>0</td>\n",
       "      <td>1</td>\n",
       "      <td>0</td>\n",
       "      <td>0</td>\n",
       "      <td>1</td>\n",
       "      <td>0</td>\n",
       "      <td>0</td>\n",
       "      <td>0</td>\n",
       "    </tr>\n",
       "  </tbody>\n",
       "</table>\n",
       "<p>5 rows × 78 columns</p>\n",
       "</div>"
      ],
      "text/plain": [
       "            year  cylinders  odometer  drive  manufacturer_acura  \\\n",
       "220052  0.958333   0.714286  0.040324      2                   0   \n",
       "10665   0.333333   0.428571  0.273475      2                   0   \n",
       "102772  0.750000   0.428571  0.308018      2                   0   \n",
       "90016   0.791667   0.428571  0.528394      4                   0   \n",
       "294161  0.708333   1.000000  0.386033      4                   0   \n",
       "\n",
       "        manufacturer_alfa-romeo  manufacturer_aston-martin  manufacturer_audi  \\\n",
       "220052                        0                          0                  0   \n",
       "10665                         0                          0                  0   \n",
       "102772                        0                          0                  0   \n",
       "90016                         0                          0                  0   \n",
       "294161                        0                          0                  0   \n",
       "\n",
       "        manufacturer_bmw  manufacturer_buick  ...  type_other  type_pickup  \\\n",
       "220052                 0                   0  ...           0            1   \n",
       "10665                  0                   0  ...           0            0   \n",
       "102772                 0                   0  ...           0            0   \n",
       "90016                  0                   0  ...           0            0   \n",
       "294161                 0                   0  ...           0            0   \n",
       "\n",
       "        type_sedan  type_truck  type_van  type_wagon  state_midwest  \\\n",
       "220052           0           0         0           0              0   \n",
       "10665            0           0         0           0              0   \n",
       "102772           1           0         0           0              1   \n",
       "90016            1           0         0           0              0   \n",
       "294161           0           1         0           0              1   \n",
       "\n",
       "        state_northeast  state_south  state_west  \n",
       "220052                0            1           0  \n",
       "10665                 0            0           1  \n",
       "102772                0            0           0  \n",
       "90016                 0            0           1  \n",
       "294161                0            0           0  \n",
       "\n",
       "[5 rows x 78 columns]"
      ]
     },
     "execution_count": 13,
     "metadata": {},
     "output_type": "execute_result"
    }
   ],
   "source": [
    "x_train.head()"
   ]
  },
  {
   "cell_type": "markdown",
   "metadata": {},
   "source": [
    "### GradientBoosting Model"
   ]
  },
  {
   "cell_type": "markdown",
   "metadata": {},
   "source": [
    "#### Creating Model"
   ]
  },
  {
   "cell_type": "code",
   "execution_count": 14,
   "metadata": {},
   "outputs": [],
   "source": [
    "gradientBoosting = ensemble.GradientBoostingRegressor(n_estimators=500, max_depth=8, learning_rate=0.1)\n",
    "gradientBoostingModel = gradientBoosting.fit(x_train, y_train)"
   ]
  },
  {
   "cell_type": "code",
   "execution_count": 80,
   "metadata": {
    "scrolled": true
   },
   "outputs": [
    {
     "name": "stdout",
     "output_type": "stream",
     "text": [
      "0.6100046774188883 0.29791273943422747\n",
      "0.5991392250905088 0.32270125746069844\n",
      "0.5867926360295577 0.35032811530286\n",
      "0.5787021739572524 0.3681194460214118\n",
      "0.3483431176981961 0.7710507466581853\n",
      "0.3350690060315458 0.7881671656190052\n",
      "0.32398345438823284 0.8019520160340856\n",
      "0.31654538549478967 0.8109412699474234\n",
      "0.2862577624753176 0.8453893851846925\n",
      "0.2805634989691605 0.8514792612631964\n",
      "0.27626413024005675 0.8559962627371114\n",
      "0.2730276751353328 0.8593505285015391\n",
      "0.29709684293062705 0.8334591272496037\n",
      "0.2899789536535505 0.8413435547963937\n",
      "0.28320707294574204 0.8486672397876914\n",
      "0.2787026037296783 0.8534429162499557\n",
      "0.2786271235691766 0.8535222886999575\n",
      "0.27452620920314336 0.8578023599279889\n",
      "0.2702973540063323 0.8621494982491852\n",
      "0.26714537895399726 0.8653457408003151\n"
     ]
    }
   ],
   "source": [
    "gradientBoosting_dict = {}\n",
    "for lr in [0.001, 0.01, 0.1, 0.05, 0.3]:\n",
    "    for md in [5, 6, 7, 8]:\n",
    "        gradientBoosting = ensemble.GradientBoostingRegressor(n_estimators=500, max_depth=md, learning_rate=lr, min_samples_split=1595, max_features='sqrt', subsample=0.8)\n",
    "        gradientBoostingModel = gradientBoosting.fit(x_train, y_train)\n",
    "        y_pred = gradientBoostingModel.predict(x_test)\n",
    "        mse = mean_squared_error(y_test, y_pred)\n",
    "        rmse_test = math.sqrt(mse)\n",
    "        y_bar = np.sum(y_test) / len(y_test)\n",
    "        sse = np.sum((y_test - y_pred)**2)  \n",
    "        sst = np.sum((y_test - y_bar)**2) \n",
    "        rsq_test = 1 - (sse / sst)\n",
    "        print(rmse_test, rsq_test)\n",
    "        gradientBoosting_dict[f'{lr}_{md}'] = [rmse_test, rsq_test]"
   ]
  },
  {
   "cell_type": "code",
   "execution_count": 98,
   "metadata": {},
   "outputs": [
    {
     "data": {
      "text/html": [
       "<div>\n",
       "<style scoped>\n",
       "    .dataframe tbody tr th:only-of-type {\n",
       "        vertical-align: middle;\n",
       "    }\n",
       "\n",
       "    .dataframe tbody tr th {\n",
       "        vertical-align: top;\n",
       "    }\n",
       "\n",
       "    .dataframe thead th {\n",
       "        text-align: right;\n",
       "    }\n",
       "</style>\n",
       "<table border=\"1\" class=\"dataframe\">\n",
       "  <thead>\n",
       "    <tr style=\"text-align: right;\">\n",
       "      <th></th>\n",
       "      <th>learning_rate</th>\n",
       "      <th>maximum_depth</th>\n",
       "      <th>rmse_test</th>\n",
       "      <th>r2_test</th>\n",
       "    </tr>\n",
       "  </thead>\n",
       "  <tbody>\n",
       "    <tr>\n",
       "      <th>0</th>\n",
       "      <td>0.001</td>\n",
       "      <td>5</td>\n",
       "      <td>0.610005</td>\n",
       "      <td>0.297913</td>\n",
       "    </tr>\n",
       "    <tr>\n",
       "      <th>1</th>\n",
       "      <td>0.001</td>\n",
       "      <td>6</td>\n",
       "      <td>0.599139</td>\n",
       "      <td>0.322701</td>\n",
       "    </tr>\n",
       "    <tr>\n",
       "      <th>2</th>\n",
       "      <td>0.001</td>\n",
       "      <td>7</td>\n",
       "      <td>0.586793</td>\n",
       "      <td>0.350328</td>\n",
       "    </tr>\n",
       "    <tr>\n",
       "      <th>3</th>\n",
       "      <td>0.001</td>\n",
       "      <td>8</td>\n",
       "      <td>0.578702</td>\n",
       "      <td>0.368119</td>\n",
       "    </tr>\n",
       "    <tr>\n",
       "      <th>4</th>\n",
       "      <td>0.01</td>\n",
       "      <td>5</td>\n",
       "      <td>0.348343</td>\n",
       "      <td>0.771051</td>\n",
       "    </tr>\n",
       "  </tbody>\n",
       "</table>\n",
       "</div>"
      ],
      "text/plain": [
       "  learning_rate maximum_depth  rmse_test   r2_test\n",
       "0         0.001             5   0.610005  0.297913\n",
       "1         0.001             6   0.599139  0.322701\n",
       "2         0.001             7   0.586793  0.350328\n",
       "3         0.001             8   0.578702  0.368119\n",
       "4          0.01             5   0.348343  0.771051"
      ]
     },
     "execution_count": 98,
     "metadata": {},
     "output_type": "execute_result"
    }
   ],
   "source": [
    "gradien_Boost_Parameter_tuning = pd.DataFrame()\n",
    "for i in gradientBoosting_dict:\n",
    "    gradien_Boost_Parameter_tuning = gradien_Boost_Parameter_tuning.append(pd.Series([*i.split('_'), *gradientBoosting_dict[i]]), ignore_index=True)\n",
    "gradien_Boost_Parameter_tuning.columns=['learning_rate', 'maximum_depth', 'rmse_test', 'r2_test']\n",
    "gradien_Boost_Parameter_tuning.head()"
   ]
  },
  {
   "cell_type": "code",
   "execution_count": 103,
   "metadata": {},
   "outputs": [],
   "source": [
    "gradien_Boost_Parameter_tuning.to_csv('gradien_Boost_Parameter_tuning.csv')"
   ]
  },
  {
   "cell_type": "code",
   "execution_count": 14,
   "metadata": {},
   "outputs": [],
   "source": [
    "gradien_Boost_Parameter_tuning = pd.read_csv(r\"D:\\All_Docs\\Masters\\CS 584 Machine Learning\\Project\\HyperParameterTuning\\gradien_Boost_Parameter_tuning.csv\")"
   ]
  },
  {
   "cell_type": "code",
   "execution_count": 32,
   "metadata": {},
   "outputs": [],
   "source": [
    "temp_df = gradien_Boost_Parameter_tuning.groupby(by='learning_rate').mean()"
   ]
  },
  {
   "cell_type": "code",
   "execution_count": 33,
   "metadata": {},
   "outputs": [
    {
     "data": {
      "image/png": "[encoded data removed]",
      "text/plain": [
       "<Figure size 432x288 with 1 Axes>"
      ]
     },
     "metadata": {
      "needs_background": "light"
     },
     "output_type": "display_data"
    }
   ],
   "source": [
    "plt.plot(temp_df.index, temp_df['rmse_test'])\n",
    "plt.plot(temp_df.index, temp_df['r2_test'])\n",
    "plt.show()"
   ]
  },
  {
   "cell_type": "code",
   "execution_count": 27,
   "metadata": {
    "scrolled": true
   },
   "outputs": [],
   "source": [
    "temp_df = gradien_Boost_Parameter_tuning.groupby(by='maximum_depth').mean()"
   ]
  },
  {
   "cell_type": "code",
   "execution_count": 31,
   "metadata": {},
   "outputs": [
    {
     "data": {
      "image/png": "[encoded data removed]",
      "text/plain": [
       "<Figure size 432x288 with 1 Axes>"
      ]
     },
     "metadata": {
      "needs_background": "light"
     },
     "output_type": "display_data"
    }
   ],
   "source": [
    "plt.plot(temp_df.index, temp_df['rmse_test'])\n",
    "plt.plot(temp_df.index, temp_df['r2_test'])\n",
    "plt.show()"
   ]
  },
  {
   "cell_type": "markdown",
   "metadata": {},
   "source": [
    "#### Predicting"
   ]
  },
  {
   "cell_type": "code",
   "execution_count": 17,
   "metadata": {
    "scrolled": true
   },
   "outputs": [],
   "source": [
    "y_pred = gradientBoostingModel.predict(x_test)"
   ]
  },
  {
   "cell_type": "markdown",
   "metadata": {},
   "source": [
    "#### MSE and RMSE"
   ]
  },
  {
   "cell_type": "code",
   "execution_count": 18,
   "metadata": {},
   "outputs": [
    {
     "name": "stdout",
     "output_type": "stream",
     "text": [
      "rmse (Test)=0.25079832310642053\n"
     ]
    }
   ],
   "source": [
    "mse = mean_squared_error(y_test, y_pred)\n",
    "rmse=math.sqrt(mse)\n",
    "rmse\n",
    "print(\"rmse (Test)={}\".format(rmse))"
   ]
  },
  {
   "cell_type": "markdown",
   "metadata": {},
   "source": [
    "#### RSquared"
   ]
  },
  {
   "cell_type": "code",
   "execution_count": 20,
   "metadata": {},
   "outputs": [
    {
     "name": "stdout",
     "output_type": "stream",
     "text": [
      "r2 (Test)=0.8813209614561743\n"
     ]
    }
   ],
   "source": [
    "# acc_test_rmse.insert(0,rmse)\n",
    "y_bar = np.sum(y_test) / len(y_test)\n",
    "sse = np.sum((y_test - y_pred)**2)  \n",
    "sst = np.sum((y_test - y_bar)**2) \n",
    "rsq = 1 - (sse / sst)\n",
    "print(\"r2 (Test)={}\".format(rsq))\n",
    "# acc_test_r2.insert(0,rsq)"
   ]
  },
  {
   "cell_type": "markdown",
   "metadata": {},
   "source": [
    "#### Feature Importance"
   ]
  },
  {
   "cell_type": "code",
   "execution_count": 53,
   "metadata": {},
   "outputs": [],
   "source": [
    "feature_imp = pd.DataFrame(gradientBoostingModel.feature_importances_,index=x_train.columns)\n",
    "feature_imp.reset_index(inplace=True)\n",
    "feature_imp.columns = [\"columns\", \"value\"]\n",
    "feature_imp_dict = {}\n",
    "column_list = ['year','odometer', 'manufacturer','condition','cylinders','fuel','title_status','transmission','drive','type','state']\n",
    "for col in column_list:\n",
    "    feature_imp_dict[col] = feature_imp[feature_imp[\"columns\"].str.startswith(col)][\"value\"].sum()\n"
   ]
  },
  {
   "cell_type": "code",
   "execution_count": 77,
   "metadata": {},
   "outputs": [
    {
     "data": {
      "text/plain": [
       "1.0"
      ]
     },
     "execution_count": 77,
     "metadata": {},
     "output_type": "execute_result"
    }
   ],
   "source": [
    "sum(feature_imp_dict.values())"
   ]
  },
  {
   "cell_type": "code",
   "execution_count": 56,
   "metadata": {},
   "outputs": [
    {
     "name": "stdout",
     "output_type": "stream",
     "text": [
      "year 0.4947547533307803\n",
      "odometer 0.14278911499142277\n",
      "manufacturer 0.06284271964272206\n",
      "condition 0.009672968951095299\n",
      "cylinders 0.09270197882577601\n",
      "fuel 0.05155119087463463\n",
      "title_status 0.005515143864228453\n",
      "transmission 0.0056861863460786425\n",
      "drive 0.0599168838204484\n",
      "type 0.06400262166031737\n",
      "state 0.010566437692496254\n"
     ]
    }
   ],
   "source": [
    "for i in feature_imp_dict:\n",
    "    print(i, feature_imp_dict[i])"
   ]
  },
  {
   "cell_type": "code",
   "execution_count": 64,
   "metadata": {},
   "outputs": [],
   "source": [
    "pickle.dump(gradientBoostingModel, open('GradienBoostingModel.pkl','wb'))"
   ]
  },
  {
   "cell_type": "markdown",
   "metadata": {},
   "source": [
    "### RandomForest"
   ]
  },
  {
   "cell_type": "code",
   "execution_count": 67,
   "metadata": {},
   "outputs": [
    {
     "data": {
      "text/plain": [
       "RandomForestRegressor(n_estimators=20, n_jobs=-1, random_state=0)"
      ]
     },
     "execution_count": 67,
     "metadata": {},
     "output_type": "execute_result"
    }
   ],
   "source": [
    "regressor = RandomForestRegressor(n_estimators=20, random_state=0,n_jobs=-1)\n",
    "regressor.fit(x_train,y_train)"
   ]
  },
  {
   "cell_type": "code",
   "execution_count": 72,
   "metadata": {},
   "outputs": [
    {
     "name": "stdout",
     "output_type": "stream",
     "text": [
      "rmse (Test): 0.23735193205934563\n",
      "r2 (Test):0.8937056195219538\n",
      "rmse (Train): 0.0944379846368207\n",
      "r2 (Train):0.9832802431067738\n"
     ]
    }
   ],
   "source": [
    "y_pred_test = regressor.predict(x_test)\n",
    "y_pred_train = regressor.predict(x_train)\n",
    "\n",
    "# Metrics\n",
    "from sklearn import metrics\n",
    "\n",
    "print('rmse (Test):', np.sqrt(metrics.mean_squared_error(y_test, y_pred_test)))\n",
    "print(\"r2 (Test):{}\".format(regressor.score(x_test, y_test)))\n",
    "\n",
    "print('rmse (Train):', np.sqrt(metrics.mean_squared_error(y_train, y_pred_train)))\n",
    "print(\"r2 (Train):{}\".format(regressor.score(x_train, y_train)))\n"
   ]
  },
  {
   "cell_type": "code",
   "execution_count": 16,
   "metadata": {
    "collapsed": true
   },
   "outputs": [
    {
     "name": "stdout",
     "output_type": "stream",
     "text": [
      "0.42524629619678006 0.6588024987797586 0.42382612986836204 0.6632465958379252\n",
      "0.42524629619678006 0.6588024987797586 0.42382612986836204 0.6632465958379252\n",
      "0.42524629619678 0.6588024987797587 0.42382612986836204 0.6632465958379253\n",
      "0.49012751121676823 0.5467446661953186 0.48977388085185986 0.5502949345072194\n",
      "0.49058382363005537 0.5459003050494197 0.4902275487346051 0.5494614428032125\n",
      "0.48942620974085954 0.5480408236861929 0.4890492385906107 0.55162466740961\n",
      "0.4251998557967101 0.658877017868484 0.4237684531396611 0.6633382443313804\n",
      "0.42519985579671005 0.658877017868484 0.42376845313966116 0.6633382443313804\n",
      "0.42519985579671005 0.6588770178684841 0.4237684531396611 0.6633382443313804\n",
      "0.48609818911377456 0.5541664275488816 0.4857018069749786 0.5577417164321621\n",
      "0.486289691798032 0.5538150781896677 0.48587979567370465 0.5574175199871605\n",
      "0.485470180215883 0.5553176623959983 0.4850330708341684 0.5589587203212306\n",
      "0.4253084141910714 0.6587028104221186 0.4238845165368111 0.6631538065439514\n",
      "0.4253084141910714 0.6587028104221186 0.42388451653681114 0.6631538065439514\n",
      "0.4253084141910714 0.6587028104221186 0.4238845165368111 0.6631538065439514\n",
      "0.4864453993446146 0.5535293000481945 0.4860098767687041 0.557180509431229\n",
      "0.4866348992397207 0.5531813776275959 0.4861979590687211 0.5568377072459323\n",
      "0.4859073170502093 0.554516482203238 0.48544881046602056 0.5582023309867545\n",
      "0.4249412149137863 0.6592918887311096 0.4235093500923979 0.6637498059696925\n",
      "0.4249412149137862 0.6592918887311097 0.42350935009239776 0.6637498059696927\n",
      "0.4249412149137863 0.6592918887311094 0.4235093500923979 0.6637498059696925\n",
      "0.4869173849834742 0.5526624813230758 0.4864772537107385 0.5563284150860908\n",
      "0.48673423366562873 0.5529989451658002 0.4862894717440318 0.5566708666292705\n",
      "0.4860379394023632 0.5542769388818058 0.4855751156474424 0.5579724052240678\n",
      "0.42491545585986384 0.659333193515399 0.42347006918514934 0.6638121781470423\n",
      "0.4249154558598639 0.659333193515399 0.42347006918514934 0.6638121781470423\n",
      "0.4249154558598639 0.659333193515399 0.42347006918514934 0.6638121781470423\n",
      "0.48784596418407056 0.5509546581361987 0.4874202601500638 0.5546066874395705\n",
      "0.4876037807582742 0.5514003904093753 0.48717152834535726 0.5550611421471205\n",
      "0.4866824966996398 0.5530939672442474 0.4862264686736399 0.5567857335505592\n",
      "0.4248893271061273 0.6593750885573204 0.42344452458158716 0.6638527360340807\n",
      "0.4248893271061272 0.6593750885573204 0.4234445245815871 0.6638527360340807\n",
      "0.4248893271061273 0.6593750885573204 0.42344452458158716 0.6638527360340807\n",
      "0.48714999991544716 0.5522349663263162 0.4867181667347049 0.5558888766351759\n",
      "0.48698688955618036 0.5525347626457411 0.4865355157786403 0.5562221376735215\n",
      "0.48614210395990115 0.5540858693507393 0.4856709683022608 0.5577978752740199\n",
      "0.42483603812960774 0.6594605245213694 0.4233828550152389 0.6639506404595901\n",
      "0.42483603812960774 0.6594605245213694 0.4233828550152389 0.6639506404595901\n",
      "0.42483603812960774 0.6594605245213692 0.4233828550152389 0.6639506404595901\n",
      "0.48555905494946855 0.55515483203714 0.4850996044958883 0.5588377137108097\n",
      "0.485459100429738 0.5553379599515647 0.4849786474333593 0.5590576893241609\n",
      "0.4845208485548158 0.5570551049147106 0.4840154820118431 0.560807369077029\n",
      "0.42486684838792643 0.6594111290430034 0.42340931431601625 0.6639086363547195\n",
      "0.4248668483879264 0.6594111290430033 0.42340931431601636 0.6639086363547194\n",
      "0.4248668483879264 0.6594111290430033 0.42340931431601636 0.6639086363547194\n",
      "0.4846864835858138 0.5567522088389133 0.4842543733679994 0.5603737250338982\n",
      "0.4845707684937584 0.5569638274340143 0.4841175461592263 0.5606221248058039\n",
      "0.4838408807359537 0.5582974742946432 0.4833682522705713 0.5619811682092396\n",
      "0.4249358505598854 0.6593004907084443 0.4234771015291547 0.6638010122667777\n",
      "0.42493585055988536 0.6593004907084443 0.42347710152915474 0.6638010122667777\n",
      "0.42493585055988536 0.6593004907084444 0.42347710152915474 0.6638010122667777\n",
      "0.485350552368842 0.5555367894962777 0.48492633871095536 0.5591528023159205\n",
      "0.48491312605476705 0.556337580972327 0.48446363409757526 0.5599936917401709\n",
      "0.4843906556720106 0.5572931154157147 0.4839165706117735 0.5609868539113433\n",
      "0.4248684431628876 0.6594085721778353 0.4234079852351991 0.6639107463313687\n",
      "0.4248684431628876 0.6594085721778353 0.42340798523519907 0.6639107463313687\n",
      "0.4248684431628876 0.6594085721778352 0.42340798523519907 0.6639107463313687\n",
      "0.4843297935651793 0.5574043577804116 0.483871710199643 0.5610682456181025\n",
      "0.4839507844322904 0.5580967874340655 0.4834676914035857 0.5618009300868869\n",
      "0.48343669513905835 0.5590351351124523 0.4829336991870144 0.5627683811600428\n",
      "0.3994377231362019 0.6989608926385094 0.39731725494833825 0.7040547388163265\n",
      "0.3994376806847332 0.6989609566262143 0.3973173857424579 0.7040545439699875\n",
      "0.39943769449526656 0.6989609358094007 0.39731860932155955 0.704052721179212\n",
      "0.4624571955921624 0.5964774168802773 0.4615945754655934 0.6005541342381626\n",
      "0.46313923518652134 0.5952862954971039 0.46234467555525477 0.5992548649513911\n",
      "0.4635989576778883 0.5944824407593602 0.4628046702822653 0.5984570517155039\n",
      "0.39944116253329 0.69895570836358 0.3973280363228175 0.7040386773946947\n",
      "0.3994411443005652 0.6989557358462638 0.39732814499684127 0.7040385154966696\n",
      "0.3994412800989751 0.6989555311535831 0.3973297858216991 0.704036071058894\n",
      "0.4588930591457046 0.6026733089608443 0.4579396579904569 0.6068547357831389\n",
      "0.4603842514989203 0.6000868536939665 0.4594831546363226 0.6042000583204618\n",
      "0.46075648681432824 0.5994399072555714 0.4598590226441356 0.6035522461769817\n",
      "0.399528657413287 0.6988238104951454 0.3974408282313507 0.7038706208894523\n",
      "0.3995285736150842 0.6988239368341214 0.3974410269429718 0.7038703247731024\n",
      "0.39952870964454157 0.6988237317482973 0.39744251414378834 0.7038681085694951\n",
      "0.4595907954298307 0.6014641383107708 0.45863817558293374 0.6056544539406883\n",
      "0.4617992282028297 0.5976248347508749 0.46091455879107207 0.6017301869150227\n",
      "0.46150922359413143 0.5981300500263856 0.4606208060326863 0.602237680430511\n",
      "0.3992780462866982 0.6992015277391675 0.3971862379240642 0.7042498850077545\n",
      "0.39927797893110095 0.6992016292246324 0.3971864173689522 0.7042496177736302\n",
      "0.39927807870859333 0.6992014788887136 0.3971879156156906 0.704247386539822\n",
      "0.45975437106300965 0.6011803973926357 0.4587939124546084 0.6053865976130709\n",
      "0.46189364901738295 0.5974602763342463 0.46100785506870384 0.6015689385841474\n",
      "0.4614166427342009 0.5982912677522886 0.460525159027186 0.6024028524084506\n",
      "0.39928048252920445 0.6991978570126329 0.3971754533558796 0.7042659454533309\n",
      "0.3992803447508872 0.6991980646060804 0.39717565494235807 0.704265645253501\n",
      "0.39928037957956936 0.6991980121289896 0.39717715688865657 0.7042634085707953\n",
      "0.4624437496301261 0.5965008814106519 0.4614670043144727 0.6007748938830987\n",
      "0.46369771438339613 0.5943096541600058 0.4627888492112651 0.5984845048996041\n",
      "0.4632149845205915 0.5951538977284352 0.4622981446686965 0.5993355237718548\n",
      "0.39923589530655945 0.6992650337661195 0.3971258448471788 0.7043398171343269\n",
      "0.39923574942683954 0.6992652535415712 0.39712604458952133 0.704339519717913\n",
      "0.3992357093298362 0.6992653139497965 0.39712763042797294 0.7043371583986247\n",
      "0.4619374726978684 0.5973838881477738 0.46096024410449793 0.6016512309235947\n",
      "0.4635031836905388 0.5946499735857803 0.4625860626196041 0.5988363030036261\n",
      "0.46321948734030566 0.5951460268350847 0.4622976027004689 0.599336463197164\n",
      "0.3991910696887132 0.6993325621323572 0.3970699267614803 0.7044230732995669\n",
      "0.3991909176324144 0.6993327911874265 0.3970701118270339 0.7044227977757025\n",
      "0.3991907897274882 0.6993329838612037 0.3970718310177918 0.7044202382544531\n",
      "0.4606082561032627 0.5996975954627177 0.4596081809922422 0.6039846329825478\n",
      "0.4619566632155794 0.5973504352561028 0.46103115698893377 0.601528659689347\n",
      "0.4617469677462344 0.597715900819064 0.46080993723209257 0.6019109704417933\n",
      "0.3992210791163349 0.6992873547239284 0.3971104853503677 0.7043626869821387\n",
      "0.3992209483648346 0.699287551700617 0.39711065235106546 0.7043624383276721\n",
      "0.3992208204292576 0.6992877444350644 0.39711241764974053 0.7043598098927366\n",
      "0.4591663128150545 0.6021999816830731 0.4581631726573349 0.6064708634703924\n",
      "0.46046325505825436 0.5999495889080888 0.4595241716538134 0.6041293908429848\n",
      "0.46023986949093554 0.6003376494537113 0.4592877083299804 0.6045367025843602\n"
     ]
    },
    {
     "name": "stdout",
     "output_type": "stream",
     "text": [
      "0.39927998784187957 0.6991986023679495 0.3971627326213527 0.7042848886892368\n",
      "0.3992798773806098 0.6991987688020347 0.39716289760158774 0.7042846430108047\n",
      "0.39927972608813894 0.6991989967571882 0.39716469916897534 0.7042819602206718\n",
      "0.4597015688692024 0.6012719999613233 0.45870831398323814 0.6055338321427932\n",
      "0.4606153056532857 0.5996853422154843 0.45966194624452655 0.6038919753129733\n",
      "0.4607117236284991 0.5995177335060975 0.4597595253190142 0.6037237823296064\n",
      "0.3992319288778029 0.6992710093705514 0.3971158554351761 0.7043546911812899\n",
      "0.3992318439298719 0.6992711373478047 0.39711603307656446 0.7043544266798647\n",
      "0.3992317003293644 0.6992713536873085 0.39711794451559534 0.7043515806107006\n",
      "0.45847209190769156 0.6034019528023584 0.4574642831948367 0.6076705391010417\n",
      "0.4593184206435847 0.6019363799440149 0.45835032193808695 0.6061493023272684\n",
      "0.4594610027811277 0.6016892068783457 0.45848196286892956 0.6059230373271697\n",
      "0.37898613170601353 0.7289986847356292 0.3763999940841439 0.7343953013970473\n",
      "0.3789861771302843 0.7289986197726301 0.37640221408221614 0.734392168327616\n",
      "0.3789869976141428 0.728997446365724 0.3764091080999826 0.7343824387255529\n",
      "0.4417031556981018 0.6318830910597114 0.44028234513033393 0.6365881539827923\n",
      "0.44284833774971744 0.6299718194210675 0.4415064008624581 0.6345646583033965\n",
      "0.442761381169909 0.6301171207499265 0.4412769379314373 0.6349444130424857\n",
      "0.37902189587163665 0.7289475346146824 0.37645932996618764 0.7343115546833776\n",
      "0.37902212088737464 0.728947212780565 0.3764616512732778 0.7343082781202841\n",
      "0.3790229202244646 0.7289460695081138 0.3764684750509577 0.7342986461289944\n",
      "0.43970436927977813 0.6352071438036411 0.43819191701308613 0.6400308669694291\n",
      "0.43964769279446936 0.6353011790050959 0.43818118282384827 0.6400485027555616\n",
      "0.440660654274859 0.6336186889213075 0.4391972916302979 0.6383771669078795\n",
      "0.37901657622416796 0.7289551431114917 0.37648995742996016 0.7342683218898183\n",
      "0.3790170518148791 0.7289544628958746 0.3764923148062741 0.7342649941435522\n",
      "0.3790184275709125 0.72895249521021 0.3764990157472411 0.7342555347715352\n",
      "0.4395183716186852 0.6355156977874554 0.43800578974338106 0.6403366044317895\n",
      "0.4394765527924113 0.6355850536167841 0.43801947158166354 0.6403141347138768\n",
      "0.4396784192368359 0.6352502005099446 0.4381920157130585 0.640030704807846\n",
      "0.3788751360024672 0.7291574007111795 0.3763335394889462 0.7344890797969766\n",
      "0.3788759047669964 0.7291563015923682 0.37633585803415887 0.7344858082258587\n",
      "0.3788778024159863 0.7291535884741605 0.3763429435615789 0.7344758101044659\n",
      "0.4393156473663238 0.6358518510492945 0.43777978758381286 0.6407076668030389\n",
      "0.43895212888367513 0.6364542416796668 0.43747634839990157 0.6412055682213651\n",
      "0.4389740108003353 0.6364179950106387 0.4374891731912468 0.6411845315130396\n",
      "0.3789229055232428 0.7290890993866896 0.37637038862264033 0.7344370816338182\n",
      "0.37892346338217014 0.7290883017037126 0.3763726302968887 0.7344339182216781\n",
      "0.378925446847947 0.7290854655347212 0.3763795770610195 0.7344241149479658\n",
      "0.4404971009204846 0.6338906068767169 0.43900325456606054 0.6386966257665407\n",
      "0.4412920100139809 0.632568072531245 0.4398535932529101 0.6372955984057157\n",
      "0.44030225855984023 0.6342144130583326 0.4388468877173378 0.6389539623942445\n",
      "0.37888576781075456 0.7291421999934744 0.3763206535833755 0.7345072620194582\n",
      "0.3788858941458264 0.7291420193646505 0.3763229346922311 0.7345040433830881\n",
      "0.3788879754242046 0.7291390436275451 0.3763297972530574 0.7344943602168704\n",
      "0.439838406928832 0.6349847060346495 0.4383388156072156 0.6397894758298948\n",
      "0.44098760008372806 0.633074817937855 0.4395527209924809 0.6377916287741794\n",
      "0.44007086014416524 0.6345987852119095 0.43861137948059137 0.6393413708616928\n",
      "0.37884131739883653 0.7292057496728794 0.3762608611004736 0.7345916220391446\n",
      "0.3788417932806166 0.7292050693556862 0.37626300753056247 0.7345885939157754\n",
      "0.37884326183090794 0.7292029699212939 0.37626989774227404 0.7345788732816118\n",
      "0.43898155200766187 0.636405502832224 0.43747254855477 0.6412118010490772\n",
      "0.4393758280623835 0.6357520768198905 0.4378994597702885 0.6405112064948076\n",
      "0.43850512962404015 0.6371942856717858 0.43699316030948265 0.6419976999877883\n",
      "0.37887781492759776 0.7291535705859384 0.3763106483793592 0.7345213790957947\n",
      "0.37887844293289347 0.7291526727073809 0.3763127297626266 0.7345184423503697\n",
      "0.3788799304339604 0.7291505459752498 0.3763197588011624 0.7345085245486069\n",
      "0.4377662042470633 0.6384159839136665 0.4362649777008884 0.6431898186357703\n",
      "0.43814573567335413 0.6377887450613116 0.43668115455097656 0.6425087327168104\n",
      "0.43810491377185506 0.6378562361363422 0.4366066715507355 0.642630674096859\n",
      "0.3789330790866566 0.7290745520147265 0.37635278953033846 0.7344619165155366\n",
      "0.3789337277065579 0.7290736245275397 0.3763548042875927 0.7344590734585599\n",
      "0.37893542178337475 0.7290712020927753 0.37636192070723357 0.7344490312403682\n",
      "0.43834714565651983 0.6374556607718169 0.43686548479729975 0.6422068632147524\n",
      "0.4389868754405369 0.6363966843175203 0.4375393469124927 0.6411022248378272\n",
      "0.4386321042124879 0.6369841454804805 0.4371341897392884 0.6417665887856827\n",
      "0.37889389449010624 0.7291305806702698 0.3763193706278417 0.7345090722565182\n",
      "0.3788943975452863 0.7291298614063442 0.37632139337992226 0.734506218171336\n",
      "0.37889611495507874 0.7291274058615497 0.3763285645784693 0.73449609955041\n",
      "0.43731181498107197 0.6391662228525645 0.4357991392126471 0.6439514070386492\n",
      "0.4383424751585689 0.6374633864001897 0.43686687424072645 0.6422045873008617\n",
      "0.437734746907915 0.6384679480088231 0.43621486358670974 0.6432717880812558\n",
      "0.36335344883091053 0.7508944887728791 0.35911358645808505 0.7582312249234058\n",
      "0.3633569995471214 0.7508896201949062 0.3591210194396077 0.7582212164942982\n",
      "0.36335862219413867 0.7508873952804678 0.35914092579955464 0.7581944117759785\n",
      "0.4218541320308753 0.6642242117989099 0.41966841411553996 0.6698212605554017\n",
      "0.42192991448340944 0.6641035625205529 0.41950425418850107 0.6700795192899034\n",
      "0.42455837189603673 0.6599055216722036 0.42234445120565556 0.6655970321421996\n",
      "0.3634473012657219 0.7507657866609794 0.3591864290057377 0.7581331342897155\n",
      "0.3634488835960237 0.750763616488274 0.3591941970497113 0.7581226725761686\n",
      "0.36345062665101985 0.750761225870034 0.3592135262004583 0.7580966398108462\n",
      "0.4195444180251621 0.6678909907502247 0.4173276579036468 0.6734942200767083\n",
      "0.4188514705115921 0.6689871514898184 0.4164901656369176 0.674803367386069\n",
      "0.42131047362054 0.6650891065090696 0.41909688416465685 0.6707199631312344\n",
      "0.36347461221995125 0.7507283282458758 0.3592399647386188 0.7580610297565815\n",
      "0.3634758631890139 0.750726612408369 0.3592472323782119 0.7580512405170879\n",
      "0.3634789000594716 0.7507224469920333 0.3592664470799219 0.7580253580765229\n",
      "0.4199246481474668 0.6672887419005866 0.41768243964183205 0.6729388409898263\n",
      "0.41923677906166357 0.6683778627382859 0.41687944369180313 0.6741951846079219\n",
      "0.4202075003031029 0.666840376740019 0.41795704504009257 0.6725086467800315\n",
      "0.36330692770689205 0.7509582719930714 0.35907452272774365 0.7582838204080591\n",
      "0.363308159458202 0.7509565832942258 0.35908191813367724 0.7582738636577802\n",
      "0.36331187513860086 0.7509514891588487 0.3591012264706047 0.7582478670540338\n",
      "0.41970361072510665 0.6676389108368519 0.4175289611008519 0.6731791558426676\n",
      "0.41936805518245146 0.6681701477387467 0.4170792167574147 0.6738828515200477\n",
      "0.41992061915474144 0.6672951263069973 0.4177140741499244 0.6728892970793869\n",
      "0.363346966400042 0.7509033770597862 0.3590992851473471 0.7582504809006881\n",
      "0.3633468743664697 0.7509035032490833 0.3591068190751818 0.7582403369510227\n",
      "0.36335099323402525 0.7508978557460146 0.3591258822556684 0.758214668653052\n",
      "0.42093156816875066 0.6656912396522341 0.41878554729058903 0.6712090096622172\n",
      "0.4209349475720058 0.6656858717077345 0.4187277587194802 0.6712997436940387\n",
      "0.42072319019291216 0.6660221501620153 0.4185329191816767 0.6716055696368775\n",
      "0.3632953905231436 0.7509740888924289 0.35905186410465273 0.7583143254016242\n",
      "0.36329513637707167 0.7509744373082724 0.35905921207496727 0.7583044331408577\n",
      "0.3632992613801175 0.7509687821979584 0.35907822983918114 0.7582788293915274\n",
      "0.4204018722631801 0.6665320915905242 0.4182193250627537 0.6720974973991342\n",
      "0.4204454727529003 0.6664629191199847 0.418241247065578 0.6720631208528911\n"
     ]
    },
    {
     "name": "stdout",
     "output_type": "stream",
     "text": [
      "0.42072887702629463 0.6660131214739571 0.4185444983910393 0.6715873985430905\n",
      "0.36325329143926477 0.7510318003611565 0.3590015980025695 0.7583819910935407\n",
      "0.3632529767621097 0.7510322317107005 0.35900879179285533 0.7583723077566985\n",
      "0.3632570066207517 0.7510267076790089 0.3590278782398546 0.7583466151450472\n",
      "0.41949304755551653 0.6679723149226677 0.4173024696525889 0.673533632088893\n",
      "0.41990458313089585 0.6673205366401537 0.41768160667915677 0.6729401454711281\n",
      "0.4196293066725119 0.667756582399148 0.41744349166636724 0.6733129445678856\n",
      "0.3632848907173265 0.7509884831621799 0.35903865322357775 0.7583321101412942\n",
      "0.36328496585150394 0.7509883801615989 0.3590456838445114 0.758322645466972\n",
      "0.36328848132093833 0.7509835608211021 0.35906489918822365 0.7582967766825256\n",
      "0.4188968883198553 0.6689153613960133 0.4166769234687258 0.6745116599718803\n",
      "0.41915405415041185 0.6685087229424823 0.4169244418358648 0.674124845791858\n",
      "0.418114671641099 0.6701506922554703 0.4159299415579378 0.6756776279144474\n",
      "0.3633359029354411 0.7509185461954526 0.35908304503549493 0.7582723464438181\n",
      "0.3633361558197799 0.7509181994704515 0.35909009410895937 0.7582628557550382\n",
      "0.3633389054487621 0.7509144294898524 0.3591094140655491 0.7582368429139829\n",
      "0.41922836281003223 0.6683911773493987 0.4170240165220072 0.673969168705763\n",
      "0.4190003429222983 0.6687518058278592 0.4167769036606216 0.6743554416210215\n",
      "0.4182832115402202 0.6698847175006714 0.41612437401918856 0.6753743386841509\n",
      "0.36329201937852557 0.7509787104675265 0.35903914318933705 0.7583314505517437\n",
      "0.3632925079521483 0.7509780406740331 0.35904613291117254 0.7583220409237875\n",
      "0.36329515373535487 0.7509744135113321 0.3590653649134686 0.7582961496796292\n",
      "0.4184212045894468 0.6696668692709683 0.41619254654053617 0.6752679648978422\n",
      "0.4181110520206156 0.6701564032444587 0.4158697292278894 0.6757715225358885\n",
      "0.41776612782707134 0.6707003932101634 0.4155911056076965 0.6762058289721034\n"
     ]
    }
   ],
   "source": [
    "random_forest_dict = {}\n",
    "for md in [5, 6, 7, 8]:\n",
    "    for n_est in range(200, 1200, 100):\n",
    "        for mf in ['auto', 'sqrt']:\n",
    "            for msp in  [2, 5, 10]:\n",
    "                regressor = RandomForestRegressor(n_estimators=n_est, random_state=0, n_jobs=-1, max_depth=md, max_features=mf, min_samples_split=msp)\n",
    "                regressor.fit(x_train,y_train)\n",
    "                y_pred_test = regressor.predict(x_test)\n",
    "                y_pred_train = regressor.predict(x_train)\n",
    "                rmse_test = np.sqrt(mean_squared_error(y_test, y_pred_test))\n",
    "                r2_test = regressor.score(x_test, y_test)\n",
    "                rmse_train = np.sqrt(mean_squared_error(y_train, y_pred_train))\n",
    "                r2_train = regressor.score(x_train, y_train)\n",
    "                print(rmse_test, r2_test, rmse_train, r2_train)\n",
    "                random_forest_dict[f'{md}_{n_est}_{mf}_{msp}'] = [rmse_test, r2_test, rmse_train, r2_train]"
   ]
  },
  {
   "cell_type": "code",
   "execution_count": 17,
   "metadata": {},
   "outputs": [
    {
     "data": {
      "text/html": [
       "<div>\n",
       "<style scoped>\n",
       "    .dataframe tbody tr th:only-of-type {\n",
       "        vertical-align: middle;\n",
       "    }\n",
       "\n",
       "    .dataframe tbody tr th {\n",
       "        vertical-align: top;\n",
       "    }\n",
       "\n",
       "    .dataframe thead th {\n",
       "        text-align: right;\n",
       "    }\n",
       "</style>\n",
       "<table border=\"1\" class=\"dataframe\">\n",
       "  <thead>\n",
       "    <tr style=\"text-align: right;\">\n",
       "      <th></th>\n",
       "      <th>n_estimators</th>\n",
       "      <th>max_depth</th>\n",
       "      <th>max_features</th>\n",
       "      <th>min_samples_split</th>\n",
       "      <th>rmse_test</th>\n",
       "      <th>r2_test</th>\n",
       "      <th>r2_train</th>\n",
       "      <th>r2_train</th>\n",
       "    </tr>\n",
       "  </thead>\n",
       "  <tbody>\n",
       "    <tr>\n",
       "      <th>0</th>\n",
       "      <td>5</td>\n",
       "      <td>200</td>\n",
       "      <td>auto</td>\n",
       "      <td>2</td>\n",
       "      <td>0.425246</td>\n",
       "      <td>0.658802</td>\n",
       "      <td>0.423826</td>\n",
       "      <td>0.663247</td>\n",
       "    </tr>\n",
       "    <tr>\n",
       "      <th>1</th>\n",
       "      <td>5</td>\n",
       "      <td>200</td>\n",
       "      <td>auto</td>\n",
       "      <td>5</td>\n",
       "      <td>0.425246</td>\n",
       "      <td>0.658802</td>\n",
       "      <td>0.423826</td>\n",
       "      <td>0.663247</td>\n",
       "    </tr>\n",
       "    <tr>\n",
       "      <th>2</th>\n",
       "      <td>5</td>\n",
       "      <td>200</td>\n",
       "      <td>auto</td>\n",
       "      <td>10</td>\n",
       "      <td>0.425246</td>\n",
       "      <td>0.658802</td>\n",
       "      <td>0.423826</td>\n",
       "      <td>0.663247</td>\n",
       "    </tr>\n",
       "    <tr>\n",
       "      <th>3</th>\n",
       "      <td>5</td>\n",
       "      <td>200</td>\n",
       "      <td>sqrt</td>\n",
       "      <td>2</td>\n",
       "      <td>0.490128</td>\n",
       "      <td>0.546745</td>\n",
       "      <td>0.489774</td>\n",
       "      <td>0.550295</td>\n",
       "    </tr>\n",
       "    <tr>\n",
       "      <th>4</th>\n",
       "      <td>5</td>\n",
       "      <td>200</td>\n",
       "      <td>sqrt</td>\n",
       "      <td>5</td>\n",
       "      <td>0.490584</td>\n",
       "      <td>0.545900</td>\n",
       "      <td>0.490228</td>\n",
       "      <td>0.549461</td>\n",
       "    </tr>\n",
       "  </tbody>\n",
       "</table>\n",
       "</div>"
      ],
      "text/plain": [
       "  n_estimators max_depth max_features min_samples_split  rmse_test   r2_test  \\\n",
       "0            5       200         auto                 2   0.425246  0.658802   \n",
       "1            5       200         auto                 5   0.425246  0.658802   \n",
       "2            5       200         auto                10   0.425246  0.658802   \n",
       "3            5       200         sqrt                 2   0.490128  0.546745   \n",
       "4            5       200         sqrt                 5   0.490584  0.545900   \n",
       "\n",
       "   r2_train  r2_train  \n",
       "0  0.423826  0.663247  \n",
       "1  0.423826  0.663247  \n",
       "2  0.423826  0.663247  \n",
       "3  0.489774  0.550295  \n",
       "4  0.490228  0.549461  "
      ]
     },
     "execution_count": 17,
     "metadata": {},
     "output_type": "execute_result"
    }
   ],
   "source": [
    "randomForest_Parameter_tuning = pd.DataFrame()\n",
    "for i in random_forest_dict:\n",
    "    randomForest_Parameter_tuning = randomForest_Parameter_tuning.append(pd.Series([*i.split('_'), *random_forest_dict[i]]), ignore_index=True)\n",
    "randomForest_Parameter_tuning.columns=['n_estimators', 'max_depth', 'max_features', 'min_samples_split', 'rmse_test', 'r2_test', 'rmse_train', 'r2_train']\n",
    "randomForest_Parameter_tuning.head()"
   ]
  },
  {
   "cell_type": "code",
   "execution_count": 18,
   "metadata": {},
   "outputs": [],
   "source": [
    "randomForest_Parameter_tuning.to_csv('randomForest_Parameter_tuning.csv')"
   ]
  },
  {
   "cell_type": "code",
   "execution_count": 34,
   "metadata": {},
   "outputs": [],
   "source": [
    "randomForest_Parameter_tuning = pd.read_csv(r\"D:\\All_Docs\\Masters\\CS 584 Machine Learning\\Project\\HyperParameterTuning\\randomForest_Parameter_tuning.csv\")"
   ]
  },
  {
   "cell_type": "code",
   "execution_count": 35,
   "metadata": {},
   "outputs": [
    {
     "data": {
      "text/html": [
       "<div>\n",
       "<style scoped>\n",
       "    .dataframe tbody tr th:only-of-type {\n",
       "        vertical-align: middle;\n",
       "    }\n",
       "\n",
       "    .dataframe tbody tr th {\n",
       "        vertical-align: top;\n",
       "    }\n",
       "\n",
       "    .dataframe thead th {\n",
       "        text-align: right;\n",
       "    }\n",
       "</style>\n",
       "<table border=\"1\" class=\"dataframe\">\n",
       "  <thead>\n",
       "    <tr style=\"text-align: right;\">\n",
       "      <th></th>\n",
       "      <th>Unnamed: 0</th>\n",
       "      <th>n_estimators</th>\n",
       "      <th>max_depth</th>\n",
       "      <th>max_features</th>\n",
       "      <th>min_samples_split</th>\n",
       "      <th>rmse_test</th>\n",
       "      <th>r2_test</th>\n",
       "      <th>r2_train</th>\n",
       "      <th>r2_train.1</th>\n",
       "    </tr>\n",
       "  </thead>\n",
       "  <tbody>\n",
       "    <tr>\n",
       "      <th>0</th>\n",
       "      <td>0</td>\n",
       "      <td>5</td>\n",
       "      <td>200</td>\n",
       "      <td>auto</td>\n",
       "      <td>2</td>\n",
       "      <td>0.425246</td>\n",
       "      <td>0.658802</td>\n",
       "      <td>0.663247</td>\n",
       "      <td>0.663247</td>\n",
       "    </tr>\n",
       "    <tr>\n",
       "      <th>1</th>\n",
       "      <td>1</td>\n",
       "      <td>5</td>\n",
       "      <td>200</td>\n",
       "      <td>auto</td>\n",
       "      <td>5</td>\n",
       "      <td>0.425246</td>\n",
       "      <td>0.658802</td>\n",
       "      <td>0.663247</td>\n",
       "      <td>0.663247</td>\n",
       "    </tr>\n",
       "    <tr>\n",
       "      <th>2</th>\n",
       "      <td>2</td>\n",
       "      <td>5</td>\n",
       "      <td>200</td>\n",
       "      <td>auto</td>\n",
       "      <td>10</td>\n",
       "      <td>0.425246</td>\n",
       "      <td>0.658802</td>\n",
       "      <td>0.663247</td>\n",
       "      <td>0.663247</td>\n",
       "    </tr>\n",
       "    <tr>\n",
       "      <th>3</th>\n",
       "      <td>3</td>\n",
       "      <td>5</td>\n",
       "      <td>200</td>\n",
       "      <td>sqrt</td>\n",
       "      <td>2</td>\n",
       "      <td>0.490128</td>\n",
       "      <td>0.546745</td>\n",
       "      <td>0.550295</td>\n",
       "      <td>0.550295</td>\n",
       "    </tr>\n",
       "    <tr>\n",
       "      <th>4</th>\n",
       "      <td>4</td>\n",
       "      <td>5</td>\n",
       "      <td>200</td>\n",
       "      <td>sqrt</td>\n",
       "      <td>5</td>\n",
       "      <td>0.490584</td>\n",
       "      <td>0.545900</td>\n",
       "      <td>0.549461</td>\n",
       "      <td>0.549461</td>\n",
       "    </tr>\n",
       "    <tr>\n",
       "      <th>...</th>\n",
       "      <td>...</td>\n",
       "      <td>...</td>\n",
       "      <td>...</td>\n",
       "      <td>...</td>\n",
       "      <td>...</td>\n",
       "      <td>...</td>\n",
       "      <td>...</td>\n",
       "      <td>...</td>\n",
       "      <td>...</td>\n",
       "    </tr>\n",
       "    <tr>\n",
       "      <th>235</th>\n",
       "      <td>235</td>\n",
       "      <td>8</td>\n",
       "      <td>1100</td>\n",
       "      <td>auto</td>\n",
       "      <td>5</td>\n",
       "      <td>0.363293</td>\n",
       "      <td>0.750978</td>\n",
       "      <td>0.758322</td>\n",
       "      <td>0.758322</td>\n",
       "    </tr>\n",
       "    <tr>\n",
       "      <th>236</th>\n",
       "      <td>236</td>\n",
       "      <td>8</td>\n",
       "      <td>1100</td>\n",
       "      <td>auto</td>\n",
       "      <td>10</td>\n",
       "      <td>0.363295</td>\n",
       "      <td>0.750974</td>\n",
       "      <td>0.758296</td>\n",
       "      <td>0.758296</td>\n",
       "    </tr>\n",
       "    <tr>\n",
       "      <th>237</th>\n",
       "      <td>237</td>\n",
       "      <td>8</td>\n",
       "      <td>1100</td>\n",
       "      <td>sqrt</td>\n",
       "      <td>2</td>\n",
       "      <td>0.418421</td>\n",
       "      <td>0.669667</td>\n",
       "      <td>0.675268</td>\n",
       "      <td>0.675268</td>\n",
       "    </tr>\n",
       "    <tr>\n",
       "      <th>238</th>\n",
       "      <td>238</td>\n",
       "      <td>8</td>\n",
       "      <td>1100</td>\n",
       "      <td>sqrt</td>\n",
       "      <td>5</td>\n",
       "      <td>0.418111</td>\n",
       "      <td>0.670156</td>\n",
       "      <td>0.675772</td>\n",
       "      <td>0.675772</td>\n",
       "    </tr>\n",
       "    <tr>\n",
       "      <th>239</th>\n",
       "      <td>239</td>\n",
       "      <td>8</td>\n",
       "      <td>1100</td>\n",
       "      <td>sqrt</td>\n",
       "      <td>10</td>\n",
       "      <td>0.417766</td>\n",
       "      <td>0.670700</td>\n",
       "      <td>0.676206</td>\n",
       "      <td>0.676206</td>\n",
       "    </tr>\n",
       "  </tbody>\n",
       "</table>\n",
       "<p>240 rows × 9 columns</p>\n",
       "</div>"
      ],
      "text/plain": [
       "     Unnamed: 0  n_estimators  max_depth max_features  min_samples_split  \\\n",
       "0             0             5        200         auto                  2   \n",
       "1             1             5        200         auto                  5   \n",
       "2             2             5        200         auto                 10   \n",
       "3             3             5        200         sqrt                  2   \n",
       "4             4             5        200         sqrt                  5   \n",
       "..          ...           ...        ...          ...                ...   \n",
       "235         235             8       1100         auto                  5   \n",
       "236         236             8       1100         auto                 10   \n",
       "237         237             8       1100         sqrt                  2   \n",
       "238         238             8       1100         sqrt                  5   \n",
       "239         239             8       1100         sqrt                 10   \n",
       "\n",
       "     rmse_test   r2_test  r2_train  r2_train.1  \n",
       "0     0.425246  0.658802  0.663247    0.663247  \n",
       "1     0.425246  0.658802  0.663247    0.663247  \n",
       "2     0.425246  0.658802  0.663247    0.663247  \n",
       "3     0.490128  0.546745  0.550295    0.550295  \n",
       "4     0.490584  0.545900  0.549461    0.549461  \n",
       "..         ...       ...       ...         ...  \n",
       "235   0.363293  0.750978  0.758322    0.758322  \n",
       "236   0.363295  0.750974  0.758296    0.758296  \n",
       "237   0.418421  0.669667  0.675268    0.675268  \n",
       "238   0.418111  0.670156  0.675772    0.675772  \n",
       "239   0.417766  0.670700  0.676206    0.676206  \n",
       "\n",
       "[240 rows x 9 columns]"
      ]
     },
     "execution_count": 35,
     "metadata": {},
     "output_type": "execute_result"
    }
   ],
   "source": [
    "randomForest_Parameter_tuning"
   ]
  },
  {
   "cell_type": "code",
   "execution_count": 36,
   "metadata": {},
   "outputs": [],
   "source": [
    "temp_df = randomForest_Parameter_tuning.groupby(by='n_estimators').mean()"
   ]
  },
  {
   "cell_type": "code",
   "execution_count": 37,
   "metadata": {},
   "outputs": [
    {
     "data": {
      "image/png": "[encoded data removed]",
      "text/plain": [
       "<Figure size 432x288 with 1 Axes>"
      ]
     },
     "metadata": {
      "needs_background": "light"
     },
     "output_type": "display_data"
    }
   ],
   "source": [
    "plt.plot(temp_df.index, temp_df['rmse_test'])\n",
    "plt.plot(temp_df.index, temp_df['r2_test'])\n",
    "plt.show()"
   ]
  },
  {
   "cell_type": "code",
   "execution_count": 38,
   "metadata": {},
   "outputs": [
    {
     "data": {
      "image/png": "[encoded data removed]",
      "text/plain": [
       "<Figure size 432x288 with 1 Axes>"
      ]
     },
     "metadata": {
      "needs_background": "light"
     },
     "output_type": "display_data"
    }
   ],
   "source": [
    "temp_df = randomForest_Parameter_tuning.groupby(by='max_depth').mean()\n",
    "plt.plot(temp_df.index, temp_df['rmse_test'])\n",
    "plt.plot(temp_df.index, temp_df['r2_test'])\n",
    "plt.show()"
   ]
  },
  {
   "cell_type": "code",
   "execution_count": 40,
   "metadata": {},
   "outputs": [
    {
     "data": {
      "image/png": "[encoded data removed]",
      "text/plain": [
       "<Figure size 432x288 with 1 Axes>"
      ]
     },
     "metadata": {
      "needs_background": "light"
     },
     "output_type": "display_data"
    }
   ],
   "source": [
    "temp_df = randomForest_Parameter_tuning.groupby(by='max_features').mean()\n",
    "plt.plot(temp_df.index, temp_df['rmse_test'])\n",
    "plt.plot(temp_df.index, temp_df['r2_test'])\n",
    "plt.show()"
   ]
  },
  {
   "cell_type": "code",
   "execution_count": 41,
   "metadata": {},
   "outputs": [
    {
     "data": {
      "image/png": "[encoded data removed]",
      "text/plain": [
       "<Figure size 432x288 with 1 Axes>"
      ]
     },
     "metadata": {
      "needs_background": "light"
     },
     "output_type": "display_data"
    }
   ],
   "source": [
    "temp_df = randomForest_Parameter_tuning.groupby(by='min_samples_split').mean()\n",
    "plt.plot(temp_df.index, temp_df['rmse_test'])\n",
    "plt.plot(temp_df.index, temp_df['r2_test'])\n",
    "plt.show()"
   ]
  },
  {
   "cell_type": "raw",
   "metadata": {},
   "source": [
    "temp_df = randomForest_Parameter_tuning.groupby(by=['max_features', 'n_estimators']).mean()\n",
    "plt.plot(temp_df.index, temp_df['rmse_test'])\n",
    "plt.plot(temp_df.index, temp_df['r2_test'])\n",
    "plt.show()"
   ]
  },
  {
   "cell_type": "code",
   "execution_count": 45,
   "metadata": {},
   "outputs": [],
   "source": [
    "temp_df = randomForest_Parameter_tuning.groupby(by=['max_features', 'n_estimators']).mean()\n"
   ]
  },
  {
   "cell_type": "code",
   "execution_count": 46,
   "metadata": {},
   "outputs": [
    {
     "data": {
      "text/html": [
       "<div>\n",
       "<style scoped>\n",
       "    .dataframe tbody tr th:only-of-type {\n",
       "        vertical-align: middle;\n",
       "    }\n",
       "\n",
       "    .dataframe tbody tr th {\n",
       "        vertical-align: top;\n",
       "    }\n",
       "\n",
       "    .dataframe thead th {\n",
       "        text-align: right;\n",
       "    }\n",
       "</style>\n",
       "<table border=\"1\" class=\"dataframe\">\n",
       "  <thead>\n",
       "    <tr style=\"text-align: right;\">\n",
       "      <th></th>\n",
       "      <th></th>\n",
       "      <th>Unnamed: 0</th>\n",
       "      <th>max_depth</th>\n",
       "      <th>min_samples_split</th>\n",
       "      <th>rmse_test</th>\n",
       "      <th>r2_test</th>\n",
       "      <th>r2_train</th>\n",
       "      <th>r2_train.1</th>\n",
       "    </tr>\n",
       "    <tr>\n",
       "      <th>max_features</th>\n",
       "      <th>n_estimators</th>\n",
       "      <th></th>\n",
       "      <th></th>\n",
       "      <th></th>\n",
       "      <th></th>\n",
       "      <th></th>\n",
       "      <th></th>\n",
       "      <th></th>\n",
       "    </tr>\n",
       "  </thead>\n",
       "  <tbody>\n",
       "    <tr>\n",
       "      <th rowspan=\"4\" valign=\"top\">auto</th>\n",
       "      <th>5</th>\n",
       "      <td>28.0</td>\n",
       "      <td>650.0</td>\n",
       "      <td>5.666667</td>\n",
       "      <td>0.425001</td>\n",
       "      <td>0.659196</td>\n",
       "      <td>0.663672</td>\n",
       "      <td>0.663672</td>\n",
       "    </tr>\n",
       "    <tr>\n",
       "      <th>6</th>\n",
       "      <td>88.0</td>\n",
       "      <td>650.0</td>\n",
       "      <td>5.666667</td>\n",
       "      <td>0.399313</td>\n",
       "      <td>0.699150</td>\n",
       "      <td>0.704224</td>\n",
       "      <td>0.704224</td>\n",
       "    </tr>\n",
       "    <tr>\n",
       "      <th>7</th>\n",
       "      <td>148.0</td>\n",
       "      <td>650.0</td>\n",
       "      <td>5.666667</td>\n",
       "      <td>0.378926</td>\n",
       "      <td>0.729084</td>\n",
       "      <td>0.734444</td>\n",
       "      <td>0.734444</td>\n",
       "    </tr>\n",
       "    <tr>\n",
       "      <th>8</th>\n",
       "      <td>208.0</td>\n",
       "      <td>650.0</td>\n",
       "      <td>5.666667</td>\n",
       "      <td>0.363341</td>\n",
       "      <td>0.750912</td>\n",
       "      <td>0.758244</td>\n",
       "      <td>0.758244</td>\n",
       "    </tr>\n",
       "    <tr>\n",
       "      <th rowspan=\"4\" valign=\"top\">sqrt</th>\n",
       "      <th>5</th>\n",
       "      <td>31.0</td>\n",
       "      <td>650.0</td>\n",
       "      <td>5.666667</td>\n",
       "      <td>0.486136</td>\n",
       "      <td>0.554091</td>\n",
       "      <td>0.557750</td>\n",
       "      <td>0.557750</td>\n",
       "    </tr>\n",
       "    <tr>\n",
       "      <th>6</th>\n",
       "      <td>91.0</td>\n",
       "      <td>650.0</td>\n",
       "      <td>5.666667</td>\n",
       "      <td>0.461189</td>\n",
       "      <td>0.598683</td>\n",
       "      <td>0.602858</td>\n",
       "      <td>0.602858</td>\n",
       "    </tr>\n",
       "    <tr>\n",
       "      <th>7</th>\n",
       "      <td>151.0</td>\n",
       "      <td>650.0</td>\n",
       "      <td>5.666667</td>\n",
       "      <td>0.439549</td>\n",
       "      <td>0.635462</td>\n",
       "      <td>0.640225</td>\n",
       "      <td>0.640225</td>\n",
       "    </tr>\n",
       "    <tr>\n",
       "      <th>8</th>\n",
       "      <td>211.0</td>\n",
       "      <td>650.0</td>\n",
       "      <td>5.666667</td>\n",
       "      <td>0.419886</td>\n",
       "      <td>0.667346</td>\n",
       "      <td>0.672967</td>\n",
       "      <td>0.672967</td>\n",
       "    </tr>\n",
       "  </tbody>\n",
       "</table>\n",
       "</div>"
      ],
      "text/plain": [
       "                           Unnamed: 0  max_depth  min_samples_split  \\\n",
       "max_features n_estimators                                             \n",
       "auto         5                   28.0      650.0           5.666667   \n",
       "             6                   88.0      650.0           5.666667   \n",
       "             7                  148.0      650.0           5.666667   \n",
       "             8                  208.0      650.0           5.666667   \n",
       "sqrt         5                   31.0      650.0           5.666667   \n",
       "             6                   91.0      650.0           5.666667   \n",
       "             7                  151.0      650.0           5.666667   \n",
       "             8                  211.0      650.0           5.666667   \n",
       "\n",
       "                           rmse_test   r2_test  r2_train  r2_train.1  \n",
       "max_features n_estimators                                             \n",
       "auto         5              0.425001  0.659196  0.663672    0.663672  \n",
       "             6              0.399313  0.699150  0.704224    0.704224  \n",
       "             7              0.378926  0.729084  0.734444    0.734444  \n",
       "             8              0.363341  0.750912  0.758244    0.758244  \n",
       "sqrt         5              0.486136  0.554091  0.557750    0.557750  \n",
       "             6              0.461189  0.598683  0.602858    0.602858  \n",
       "             7              0.439549  0.635462  0.640225    0.640225  \n",
       "             8              0.419886  0.667346  0.672967    0.672967  "
      ]
     },
     "execution_count": 46,
     "metadata": {},
     "output_type": "execute_result"
    }
   ],
   "source": [
    "temp_df"
   ]
  },
  {
   "cell_type": "code",
   "execution_count": null,
   "metadata": {},
   "outputs": [],
   "source": []
  },
  {
   "cell_type": "code",
   "execution_count": 19,
   "metadata": {},
   "outputs": [
    {
     "name": "stdout",
     "output_type": "stream",
     "text": [
      "0.015495869699106657\n"
     ]
    }
   ],
   "source": [
    "parameters={'alpha': uniform()}\n",
    "tuningModel = Lasso()\n",
    "rand_search = RandomizedSearchCV(estimator=tuningModel,param_distributions=parameters,n_iter=50)\n",
    "rand_search.fit(x_train,y_train)\n",
    "print(rand_search.best_estimator_.alpha)\n",
    "# print(rand_search.best_score_)"
   ]
  },
  {
   "cell_type": "code",
   "execution_count": 20,
   "metadata": {},
   "outputs": [
    {
     "name": "stdout",
     "output_type": "stream",
     "text": [
      "Test RMSE 0.4283768245482041\n",
      "Test R-Squared 0.6537604322313855\n",
      "Train RMSE 0.4268502598093764\n",
      "Train R-Squared 0.6584237723767361\n"
     ]
    }
   ],
   "source": [
    "lassoRegressor=Lasso(alpha=rand_search.best_estimator_.alpha)\n",
    "lassoRegressor.fit(x_train,y_train)\n",
    "lassoTrainPrediction=lassoRegressor.predict(x_train)\n",
    "lassoTestPrediction=lassoRegressor.predict(x_test)\n",
    "testRmse=math.sqrt(mean_squared_error(y_test,lassoTestPrediction))\n",
    "trainRmse=math.sqrt(mean_squared_error(y_train,lassoTrainPrediction))\n",
    "print(\"Test RMSE {0}\".format(testRmse))\n",
    "print(\"Test R-Squared {0}\".format(lassoRegressor.score(x_test, y_test)))\n",
    "print(\"Train RMSE {0}\".format(trainRmse))\n",
    "print(\"Train R-Squared {0}\".format(lassoRegressor.score(x_train,y_train)))"
   ]
  },
  {
   "cell_type": "code",
   "execution_count": 21,
   "metadata": {},
   "outputs": [],
   "source": [
    "resultDict=dict()\n",
    "resultDict['lassoRegressorBestAlpha']=rand_search.best_estimator_.alpha\n",
    "resultDict['lassoRegressorTestRMSE']=testRmse\n",
    "resultDict['lassoRegressorTestRSquared']=lassoRegressor.score(x_test, y_test)\n",
    "resultDict['lassoRegressorTrainRMSE']=trainRmse\n",
    "resultDict['lassoRegressorTrainRSquared']=lassoRegressor.score(x_train,y_train)"
   ]
  },
  {
   "cell_type": "code",
   "execution_count": 22,
   "metadata": {},
   "outputs": [
    {
     "data": {
      "text/plain": [
       "{'lassoRegressorBestAlpha': 0.015495869699106657,\n",
       " 'lassoRegressorTestRMSE': 0.4283768245482041,\n",
       " 'lassoRegressorTestRSquared': 0.6537604322313855,\n",
       " 'lassoRegressorTrainRMSE': 0.4268502598093764,\n",
       " 'lassoRegressorTrainRSquared': 0.6584237723767361}"
      ]
     },
     "execution_count": 22,
     "metadata": {},
     "output_type": "execute_result"
    }
   ],
   "source": [
    "resultDict"
   ]
  },
  {
   "cell_type": "code",
   "execution_count": 30,
   "metadata": {},
   "outputs": [],
   "source": [
    "column_drop_values = {}\n",
    "for i in df.columns:\n",
    "    if str(type(df[i][0]))[8:11] == 'str':\n",
    "        column_drop_values[i] = list(df[i].unique())\n",
    "column_drop_values['cylinders'] = list(df['cylinders'].unique())"
   ]
  },
  {
   "cell_type": "code",
   "execution_count": 32,
   "metadata": {},
   "outputs": [],
   "source": [
    "column_drop_values['drive'] = list(df['drive'].unique())"
   ]
  },
  {
   "cell_type": "code",
   "execution_count": 17,
   "metadata": {},
   "outputs": [],
   "source": [
    "empty_df = pd.DataFrame([[0]*len(x_train.columns)], columns=x_train.columns)"
   ]
  },
  {
   "cell_type": "code",
   "execution_count": 20,
   "metadata": {},
   "outputs": [],
   "source": [
    "empty_df.to_pickle(\"./columns.pkl\")"
   ]
  },
  {
   "cell_type": "code",
   "execution_count": null,
   "metadata": {},
   "outputs": [],
   "source": []
  }
 ],
 "metadata": {
  "kernelspec": {
   "display_name": "Python 3",
   "language": "python",
   "name": "python3"
  },
  "language_info": {
   "codemirror_mode": {
    "name": "ipython",
    "version": 3
   },
   "file_extension": ".py",
   "mimetype": "text/x-python",
   "name": "python",
   "nbconvert_exporter": "python",
   "pygments_lexer": "ipython3",
   "version": "3.8.5"
  }
 },
 "nbformat": 4,
 "nbformat_minor": 4
}
