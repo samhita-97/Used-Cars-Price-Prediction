{
 "cells": [
  {
   "cell_type": "code",
   "execution_count": 4,
   "metadata": {},
   "outputs": [],
   "source": [
    "#libraries\n",
    "import pandas as pd\n",
    "import numpy as np\n",
    "import scipy\n",
    "import matplotlib.pyplot as plt\n",
    "import math\n",
    "import seaborn as sns\n",
    "import sklearn\n",
    "from sklearn import metrics\n",
    "from sklearn.ensemble import GradientBoostingRegressor\n",
    "from sklearn.preprocessing import LabelEncoder\n",
    "from sklearn.metrics import mean_squared_error\n",
    "import xgboost as xgb\n",
    "from sklearn.metrics import r2_score\n",
    "from math import sqrt\n",
    "from scipy.stats import uniform \n",
    "from sklearn.linear_model import Ridge\n",
    "from sklearn.linear_model import Lasso\n",
    "import matplotlib.pyplot as plt\n",
    "from sklearn.ensemble import RandomForestRegressor\n",
    "import pickle"
   ]
  },
  {
   "cell_type": "code",
   "execution_count": 5,
   "metadata": {},
   "outputs": [],
   "source": [
    "#reading the cleaned data\n",
    "df = pd.read_csv(\"cleaned2.csv\")"
   ]
  },
  {
   "cell_type": "code",
   "execution_count": 6,
   "metadata": {},
   "outputs": [
    {
     "data": {
      "text/html": [
       "<div>\n",
       "<style scoped>\n",
       "    .dataframe tbody tr th:only-of-type {\n",
       "        vertical-align: middle;\n",
       "    }\n",
       "\n",
       "    .dataframe tbody tr th {\n",
       "        vertical-align: top;\n",
       "    }\n",
       "\n",
       "    .dataframe thead th {\n",
       "        text-align: right;\n",
       "    }\n",
       "</style>\n",
       "<table border=\"1\" class=\"dataframe\">\n",
       "  <thead>\n",
       "    <tr style=\"text-align: right;\">\n",
       "      <th></th>\n",
       "      <th>Unnamed: 0</th>\n",
       "      <th>price</th>\n",
       "      <th>year</th>\n",
       "      <th>manufacturer</th>\n",
       "      <th>condition</th>\n",
       "      <th>cylinders</th>\n",
       "      <th>fuel</th>\n",
       "      <th>odometer</th>\n",
       "      <th>title_status</th>\n",
       "      <th>transmission</th>\n",
       "      <th>drive</th>\n",
       "      <th>type</th>\n",
       "      <th>state</th>\n",
       "    </tr>\n",
       "  </thead>\n",
       "  <tbody>\n",
       "    <tr>\n",
       "      <th>0</th>\n",
       "      <td>0</td>\n",
       "      <td>35990</td>\n",
       "      <td>2010.0</td>\n",
       "      <td>chevrolet</td>\n",
       "      <td>good</td>\n",
       "      <td>8 cylinders</td>\n",
       "      <td>gas</td>\n",
       "      <td>32742.0</td>\n",
       "      <td>clean</td>\n",
       "      <td>other</td>\n",
       "      <td>2</td>\n",
       "      <td>other</td>\n",
       "      <td>south</td>\n",
       "    </tr>\n",
       "    <tr>\n",
       "      <th>1</th>\n",
       "      <td>1</td>\n",
       "      <td>7500</td>\n",
       "      <td>2014.0</td>\n",
       "      <td>hyundai</td>\n",
       "      <td>excellent</td>\n",
       "      <td>4 cylinders</td>\n",
       "      <td>gas</td>\n",
       "      <td>93600.0</td>\n",
       "      <td>clean</td>\n",
       "      <td>automatic</td>\n",
       "      <td>2</td>\n",
       "      <td>sedan</td>\n",
       "      <td>south</td>\n",
       "    </tr>\n",
       "    <tr>\n",
       "      <th>2</th>\n",
       "      <td>2</td>\n",
       "      <td>4900</td>\n",
       "      <td>2006.0</td>\n",
       "      <td>bmw</td>\n",
       "      <td>good</td>\n",
       "      <td>6 cylinders</td>\n",
       "      <td>gas</td>\n",
       "      <td>87046.0</td>\n",
       "      <td>clean</td>\n",
       "      <td>automatic</td>\n",
       "      <td>2</td>\n",
       "      <td>SUV</td>\n",
       "      <td>south</td>\n",
       "    </tr>\n",
       "    <tr>\n",
       "      <th>3</th>\n",
       "      <td>5</td>\n",
       "      <td>29590</td>\n",
       "      <td>2016.0</td>\n",
       "      <td>toyota</td>\n",
       "      <td>good</td>\n",
       "      <td>6 cylinders</td>\n",
       "      <td>gas</td>\n",
       "      <td>33290.0</td>\n",
       "      <td>clean</td>\n",
       "      <td>other</td>\n",
       "      <td>4</td>\n",
       "      <td>pickup</td>\n",
       "      <td>south</td>\n",
       "    </tr>\n",
       "    <tr>\n",
       "      <th>4</th>\n",
       "      <td>6</td>\n",
       "      <td>39990</td>\n",
       "      <td>2012.0</td>\n",
       "      <td>ford</td>\n",
       "      <td>good</td>\n",
       "      <td>8 cylinders</td>\n",
       "      <td>gas</td>\n",
       "      <td>9692.0</td>\n",
       "      <td>clean</td>\n",
       "      <td>other</td>\n",
       "      <td>2</td>\n",
       "      <td>coupe</td>\n",
       "      <td>south</td>\n",
       "    </tr>\n",
       "  </tbody>\n",
       "</table>\n",
       "</div>"
      ],
      "text/plain": [
       "   Unnamed: 0  price    year manufacturer  condition    cylinders fuel  \\\n",
       "0           0  35990  2010.0    chevrolet       good  8 cylinders  gas   \n",
       "1           1   7500  2014.0      hyundai  excellent  4 cylinders  gas   \n",
       "2           2   4900  2006.0          bmw       good  6 cylinders  gas   \n",
       "3           5  29590  2016.0       toyota       good  6 cylinders  gas   \n",
       "4           6  39990  2012.0         ford       good  8 cylinders  gas   \n",
       "\n",
       "   odometer title_status transmission  drive    type  state  \n",
       "0   32742.0        clean        other      2   other  south  \n",
       "1   93600.0        clean    automatic      2   sedan  south  \n",
       "2   87046.0        clean    automatic      2     SUV  south  \n",
       "3   33290.0        clean        other      4  pickup  south  \n",
       "4    9692.0        clean        other      2   coupe  south  "
      ]
     },
     "execution_count": 6,
     "metadata": {},
     "output_type": "execute_result"
    }
   ],
   "source": [
    "df.head()"
   ]
  },
  {
   "cell_type": "code",
   "execution_count": 7,
   "metadata": {},
   "outputs": [],
   "source": [
    "#converting price into logarithmic format\n",
    "df[\"price\"]=np.log1p(df[\"price\"])"
   ]
  },
  {
   "cell_type": "markdown",
   "metadata": {},
   "source": [
    "## Encoding"
   ]
  },
  {
   "cell_type": "markdown",
   "metadata": {},
   "source": [
    "### For Numerical Data"
   ]
  },
  {
   "cell_type": "markdown",
   "metadata": {},
   "source": [
    "#### year"
   ]
  },
  {
   "cell_type": "code",
   "execution_count": 8,
   "metadata": {},
   "outputs": [],
   "source": [
    "#normalising year for optimization\n",
    "year_min = df[\"year\"].min()\n",
    "year_max = df[\"year\"].max()\n",
    "df[\"year\"] = ((df[\"year\"] - year_min) / (year_max - year_min))"
   ]
  },
  {
   "cell_type": "markdown",
   "metadata": {},
   "source": [
    "#### odometer"
   ]
  },
  {
   "cell_type": "code",
   "execution_count": 9,
   "metadata": {},
   "outputs": [],
   "source": [
    "#normalising odometer for optimization\n",
    "odo_min = df[\"odometer\"].min()\n",
    "odo_max = df[\"odometer\"].max()\n",
    "df[\"odometer\"] = ((df[\"odometer\"] - odo_min) / (odo_max - odo_min))"
   ]
  },
  {
   "cell_type": "markdown",
   "metadata": {},
   "source": [
    "### For Ordinal Data"
   ]
  },
  {
   "cell_type": "markdown",
   "metadata": {},
   "source": [
    "#### cylinders"
   ]
  },
  {
   "cell_type": "code",
   "execution_count": 10,
   "metadata": {},
   "outputs": [],
   "source": [
    "label_encoder = LabelEncoder()\n",
    "label_encoder.fit_transform(list(df['cylinders'].astype(str).values))\n",
    "df['cylinders'] = label_encoder.transform(list(df['cylinders'].astype(str).values))"
   ]
  },
  {
   "cell_type": "code",
   "execution_count": 11,
   "metadata": {},
   "outputs": [],
   "source": [
    "#Normalizing Cylinder\n",
    "cyl_min = df[\"cylinders\"].min()\n",
    "cyl_max = df[\"cylinders\"].max()\n",
    "df[\"cylinders\"] = ((df[\"cylinders\"] - cyl_min) / (cyl_max - cyl_min))"
   ]
  },
  {
   "cell_type": "markdown",
   "metadata": {},
   "source": [
    "### OneHotEncoding"
   ]
  },
  {
   "cell_type": "code",
   "execution_count": 12,
   "metadata": {},
   "outputs": [],
   "source": [
    "train_df = pd.get_dummies(df)"
   ]
  },
  {
   "cell_type": "code",
   "execution_count": 13,
   "metadata": {},
   "outputs": [
    {
     "data": {
      "text/plain": [
       "318824"
      ]
     },
     "execution_count": 13,
     "metadata": {},
     "output_type": "execute_result"
    }
   ],
   "source": [
    "len(train_df)"
   ]
  },
  {
   "cell_type": "code",
   "execution_count": 14,
   "metadata": {},
   "outputs": [
    {
     "data": {
      "text/html": [
       "<div>\n",
       "<style scoped>\n",
       "    .dataframe tbody tr th:only-of-type {\n",
       "        vertical-align: middle;\n",
       "    }\n",
       "\n",
       "    .dataframe tbody tr th {\n",
       "        vertical-align: top;\n",
       "    }\n",
       "\n",
       "    .dataframe thead th {\n",
       "        text-align: right;\n",
       "    }\n",
       "</style>\n",
       "<table border=\"1\" class=\"dataframe\">\n",
       "  <thead>\n",
       "    <tr style=\"text-align: right;\">\n",
       "      <th></th>\n",
       "      <th>Unnamed: 0</th>\n",
       "      <th>price</th>\n",
       "      <th>year</th>\n",
       "      <th>cylinders</th>\n",
       "      <th>odometer</th>\n",
       "      <th>drive</th>\n",
       "      <th>manufacturer_acura</th>\n",
       "      <th>manufacturer_alfa-romeo</th>\n",
       "      <th>manufacturer_aston-martin</th>\n",
       "      <th>manufacturer_audi</th>\n",
       "      <th>...</th>\n",
       "      <th>type_other</th>\n",
       "      <th>type_pickup</th>\n",
       "      <th>type_sedan</th>\n",
       "      <th>type_truck</th>\n",
       "      <th>type_van</th>\n",
       "      <th>type_wagon</th>\n",
       "      <th>state_midwest</th>\n",
       "      <th>state_northeast</th>\n",
       "      <th>state_south</th>\n",
       "      <th>state_west</th>\n",
       "    </tr>\n",
       "  </thead>\n",
       "  <tbody>\n",
       "    <tr>\n",
       "      <th>0</th>\n",
       "      <td>0</td>\n",
       "      <td>10.491024</td>\n",
       "      <td>0.583333</td>\n",
       "      <td>0.857143</td>\n",
       "      <td>0.130950</td>\n",
       "      <td>2</td>\n",
       "      <td>0</td>\n",
       "      <td>0</td>\n",
       "      <td>0</td>\n",
       "      <td>0</td>\n",
       "      <td>...</td>\n",
       "      <td>1</td>\n",
       "      <td>0</td>\n",
       "      <td>0</td>\n",
       "      <td>0</td>\n",
       "      <td>0</td>\n",
       "      <td>0</td>\n",
       "      <td>0</td>\n",
       "      <td>0</td>\n",
       "      <td>1</td>\n",
       "      <td>0</td>\n",
       "    </tr>\n",
       "    <tr>\n",
       "      <th>1</th>\n",
       "      <td>1</td>\n",
       "      <td>8.922792</td>\n",
       "      <td>0.750000</td>\n",
       "      <td>0.428571</td>\n",
       "      <td>0.374431</td>\n",
       "      <td>2</td>\n",
       "      <td>0</td>\n",
       "      <td>0</td>\n",
       "      <td>0</td>\n",
       "      <td>0</td>\n",
       "      <td>...</td>\n",
       "      <td>0</td>\n",
       "      <td>0</td>\n",
       "      <td>1</td>\n",
       "      <td>0</td>\n",
       "      <td>0</td>\n",
       "      <td>0</td>\n",
       "      <td>0</td>\n",
       "      <td>0</td>\n",
       "      <td>1</td>\n",
       "      <td>0</td>\n",
       "    </tr>\n",
       "    <tr>\n",
       "      <th>2</th>\n",
       "      <td>2</td>\n",
       "      <td>8.497195</td>\n",
       "      <td>0.416667</td>\n",
       "      <td>0.714286</td>\n",
       "      <td>0.348210</td>\n",
       "      <td>2</td>\n",
       "      <td>0</td>\n",
       "      <td>0</td>\n",
       "      <td>0</td>\n",
       "      <td>0</td>\n",
       "      <td>...</td>\n",
       "      <td>0</td>\n",
       "      <td>0</td>\n",
       "      <td>0</td>\n",
       "      <td>0</td>\n",
       "      <td>0</td>\n",
       "      <td>0</td>\n",
       "      <td>0</td>\n",
       "      <td>0</td>\n",
       "      <td>1</td>\n",
       "      <td>0</td>\n",
       "    </tr>\n",
       "    <tr>\n",
       "      <th>3</th>\n",
       "      <td>5</td>\n",
       "      <td>10.295226</td>\n",
       "      <td>0.833333</td>\n",
       "      <td>0.714286</td>\n",
       "      <td>0.133143</td>\n",
       "      <td>4</td>\n",
       "      <td>0</td>\n",
       "      <td>0</td>\n",
       "      <td>0</td>\n",
       "      <td>0</td>\n",
       "      <td>...</td>\n",
       "      <td>0</td>\n",
       "      <td>1</td>\n",
       "      <td>0</td>\n",
       "      <td>0</td>\n",
       "      <td>0</td>\n",
       "      <td>0</td>\n",
       "      <td>0</td>\n",
       "      <td>0</td>\n",
       "      <td>1</td>\n",
       "      <td>0</td>\n",
       "    </tr>\n",
       "    <tr>\n",
       "      <th>4</th>\n",
       "      <td>6</td>\n",
       "      <td>10.596410</td>\n",
       "      <td>0.666667</td>\n",
       "      <td>0.857143</td>\n",
       "      <td>0.038732</td>\n",
       "      <td>2</td>\n",
       "      <td>0</td>\n",
       "      <td>0</td>\n",
       "      <td>0</td>\n",
       "      <td>0</td>\n",
       "      <td>...</td>\n",
       "      <td>0</td>\n",
       "      <td>0</td>\n",
       "      <td>0</td>\n",
       "      <td>0</td>\n",
       "      <td>0</td>\n",
       "      <td>0</td>\n",
       "      <td>0</td>\n",
       "      <td>0</td>\n",
       "      <td>1</td>\n",
       "      <td>0</td>\n",
       "    </tr>\n",
       "  </tbody>\n",
       "</table>\n",
       "<p>5 rows × 80 columns</p>\n",
       "</div>"
      ],
      "text/plain": [
       "   Unnamed: 0      price      year  cylinders  odometer  drive  \\\n",
       "0           0  10.491024  0.583333   0.857143  0.130950      2   \n",
       "1           1   8.922792  0.750000   0.428571  0.374431      2   \n",
       "2           2   8.497195  0.416667   0.714286  0.348210      2   \n",
       "3           5  10.295226  0.833333   0.714286  0.133143      4   \n",
       "4           6  10.596410  0.666667   0.857143  0.038732      2   \n",
       "\n",
       "   manufacturer_acura  manufacturer_alfa-romeo  manufacturer_aston-martin  \\\n",
       "0                   0                        0                          0   \n",
       "1                   0                        0                          0   \n",
       "2                   0                        0                          0   \n",
       "3                   0                        0                          0   \n",
       "4                   0                        0                          0   \n",
       "\n",
       "   manufacturer_audi  ...  type_other  type_pickup  type_sedan  type_truck  \\\n",
       "0                  0  ...           1            0           0           0   \n",
       "1                  0  ...           0            0           1           0   \n",
       "2                  0  ...           0            0           0           0   \n",
       "3                  0  ...           0            1           0           0   \n",
       "4                  0  ...           0            0           0           0   \n",
       "\n",
       "   type_van  type_wagon  state_midwest  state_northeast  state_south  \\\n",
       "0         0           0              0                0            1   \n",
       "1         0           0              0                0            1   \n",
       "2         0           0              0                0            1   \n",
       "3         0           0              0                0            1   \n",
       "4         0           0              0                0            1   \n",
       "\n",
       "   state_west  \n",
       "0           0  \n",
       "1           0  \n",
       "2           0  \n",
       "3           0  \n",
       "4           0  \n",
       "\n",
       "[5 rows x 80 columns]"
      ]
     },
     "execution_count": 14,
     "metadata": {},
     "output_type": "execute_result"
    }
   ],
   "source": [
    "train_df.head()"
   ]
  },
  {
   "cell_type": "markdown",
   "metadata": {},
   "source": [
    "### Splitting the Data into test and train"
   ]
  },
  {
   "cell_type": "code",
   "execution_count": 15,
   "metadata": {},
   "outputs": [],
   "source": [
    "y = train_df[\"price\"]\n",
    "x = train_df.drop(['price', 'Unnamed: 0'], axis=1)\n",
    "#splitting data into test and train\n",
    "x_train,x_test,y_train,y_test = sklearn.model_selection.train_test_split(x,y,test_size=0.2,random_state=42)"
   ]
  },
  {
   "cell_type": "code",
   "execution_count": 16,
   "metadata": {},
   "outputs": [
    {
     "data": {
      "text/html": [
       "<div>\n",
       "<style scoped>\n",
       "    .dataframe tbody tr th:only-of-type {\n",
       "        vertical-align: middle;\n",
       "    }\n",
       "\n",
       "    .dataframe tbody tr th {\n",
       "        vertical-align: top;\n",
       "    }\n",
       "\n",
       "    .dataframe thead th {\n",
       "        text-align: right;\n",
       "    }\n",
       "</style>\n",
       "<table border=\"1\" class=\"dataframe\">\n",
       "  <thead>\n",
       "    <tr style=\"text-align: right;\">\n",
       "      <th></th>\n",
       "      <th>year</th>\n",
       "      <th>cylinders</th>\n",
       "      <th>odometer</th>\n",
       "      <th>drive</th>\n",
       "      <th>manufacturer_acura</th>\n",
       "      <th>manufacturer_alfa-romeo</th>\n",
       "      <th>manufacturer_aston-martin</th>\n",
       "      <th>manufacturer_audi</th>\n",
       "      <th>manufacturer_bmw</th>\n",
       "      <th>manufacturer_buick</th>\n",
       "      <th>...</th>\n",
       "      <th>type_other</th>\n",
       "      <th>type_pickup</th>\n",
       "      <th>type_sedan</th>\n",
       "      <th>type_truck</th>\n",
       "      <th>type_van</th>\n",
       "      <th>type_wagon</th>\n",
       "      <th>state_midwest</th>\n",
       "      <th>state_northeast</th>\n",
       "      <th>state_south</th>\n",
       "      <th>state_west</th>\n",
       "    </tr>\n",
       "  </thead>\n",
       "  <tbody>\n",
       "    <tr>\n",
       "      <th>220052</th>\n",
       "      <td>0.958333</td>\n",
       "      <td>0.714286</td>\n",
       "      <td>0.040324</td>\n",
       "      <td>2</td>\n",
       "      <td>0</td>\n",
       "      <td>0</td>\n",
       "      <td>0</td>\n",
       "      <td>0</td>\n",
       "      <td>0</td>\n",
       "      <td>0</td>\n",
       "      <td>...</td>\n",
       "      <td>0</td>\n",
       "      <td>1</td>\n",
       "      <td>0</td>\n",
       "      <td>0</td>\n",
       "      <td>0</td>\n",
       "      <td>0</td>\n",
       "      <td>0</td>\n",
       "      <td>0</td>\n",
       "      <td>1</td>\n",
       "      <td>0</td>\n",
       "    </tr>\n",
       "    <tr>\n",
       "      <th>10665</th>\n",
       "      <td>0.333333</td>\n",
       "      <td>0.428571</td>\n",
       "      <td>0.273475</td>\n",
       "      <td>2</td>\n",
       "      <td>0</td>\n",
       "      <td>0</td>\n",
       "      <td>0</td>\n",
       "      <td>0</td>\n",
       "      <td>0</td>\n",
       "      <td>0</td>\n",
       "      <td>...</td>\n",
       "      <td>0</td>\n",
       "      <td>0</td>\n",
       "      <td>0</td>\n",
       "      <td>0</td>\n",
       "      <td>0</td>\n",
       "      <td>0</td>\n",
       "      <td>0</td>\n",
       "      <td>0</td>\n",
       "      <td>0</td>\n",
       "      <td>1</td>\n",
       "    </tr>\n",
       "    <tr>\n",
       "      <th>102772</th>\n",
       "      <td>0.750000</td>\n",
       "      <td>0.428571</td>\n",
       "      <td>0.308018</td>\n",
       "      <td>2</td>\n",
       "      <td>0</td>\n",
       "      <td>0</td>\n",
       "      <td>0</td>\n",
       "      <td>0</td>\n",
       "      <td>0</td>\n",
       "      <td>0</td>\n",
       "      <td>...</td>\n",
       "      <td>0</td>\n",
       "      <td>0</td>\n",
       "      <td>1</td>\n",
       "      <td>0</td>\n",
       "      <td>0</td>\n",
       "      <td>0</td>\n",
       "      <td>1</td>\n",
       "      <td>0</td>\n",
       "      <td>0</td>\n",
       "      <td>0</td>\n",
       "    </tr>\n",
       "    <tr>\n",
       "      <th>90016</th>\n",
       "      <td>0.791667</td>\n",
       "      <td>0.428571</td>\n",
       "      <td>0.528394</td>\n",
       "      <td>4</td>\n",
       "      <td>0</td>\n",
       "      <td>0</td>\n",
       "      <td>0</td>\n",
       "      <td>0</td>\n",
       "      <td>0</td>\n",
       "      <td>0</td>\n",
       "      <td>...</td>\n",
       "      <td>0</td>\n",
       "      <td>0</td>\n",
       "      <td>1</td>\n",
       "      <td>0</td>\n",
       "      <td>0</td>\n",
       "      <td>0</td>\n",
       "      <td>0</td>\n",
       "      <td>0</td>\n",
       "      <td>0</td>\n",
       "      <td>1</td>\n",
       "    </tr>\n",
       "    <tr>\n",
       "      <th>294161</th>\n",
       "      <td>0.708333</td>\n",
       "      <td>1.000000</td>\n",
       "      <td>0.386033</td>\n",
       "      <td>4</td>\n",
       "      <td>0</td>\n",
       "      <td>0</td>\n",
       "      <td>0</td>\n",
       "      <td>0</td>\n",
       "      <td>0</td>\n",
       "      <td>0</td>\n",
       "      <td>...</td>\n",
       "      <td>0</td>\n",
       "      <td>0</td>\n",
       "      <td>0</td>\n",
       "      <td>1</td>\n",
       "      <td>0</td>\n",
       "      <td>0</td>\n",
       "      <td>1</td>\n",
       "      <td>0</td>\n",
       "      <td>0</td>\n",
       "      <td>0</td>\n",
       "    </tr>\n",
       "  </tbody>\n",
       "</table>\n",
       "<p>5 rows × 78 columns</p>\n",
       "</div>"
      ],
      "text/plain": [
       "            year  cylinders  odometer  drive  manufacturer_acura  \\\n",
       "220052  0.958333   0.714286  0.040324      2                   0   \n",
       "10665   0.333333   0.428571  0.273475      2                   0   \n",
       "102772  0.750000   0.428571  0.308018      2                   0   \n",
       "90016   0.791667   0.428571  0.528394      4                   0   \n",
       "294161  0.708333   1.000000  0.386033      4                   0   \n",
       "\n",
       "        manufacturer_alfa-romeo  manufacturer_aston-martin  manufacturer_audi  \\\n",
       "220052                        0                          0                  0   \n",
       "10665                         0                          0                  0   \n",
       "102772                        0                          0                  0   \n",
       "90016                         0                          0                  0   \n",
       "294161                        0                          0                  0   \n",
       "\n",
       "        manufacturer_bmw  manufacturer_buick  ...  type_other  type_pickup  \\\n",
       "220052                 0                   0  ...           0            1   \n",
       "10665                  0                   0  ...           0            0   \n",
       "102772                 0                   0  ...           0            0   \n",
       "90016                  0                   0  ...           0            0   \n",
       "294161                 0                   0  ...           0            0   \n",
       "\n",
       "        type_sedan  type_truck  type_van  type_wagon  state_midwest  \\\n",
       "220052           0           0         0           0              0   \n",
       "10665            0           0         0           0              0   \n",
       "102772           1           0         0           0              1   \n",
       "90016            1           0         0           0              0   \n",
       "294161           0           1         0           0              1   \n",
       "\n",
       "        state_northeast  state_south  state_west  \n",
       "220052                0            1           0  \n",
       "10665                 0            0           1  \n",
       "102772                0            0           0  \n",
       "90016                 0            0           1  \n",
       "294161                0            0           0  \n",
       "\n",
       "[5 rows x 78 columns]"
      ]
     },
     "execution_count": 16,
     "metadata": {},
     "output_type": "execute_result"
    }
   ],
   "source": [
    "x_train.head()"
   ]
  },
  {
   "cell_type": "markdown",
   "metadata": {},
   "source": [
    "## Modeling"
   ]
  },
  {
   "cell_type": "code",
   "execution_count": 17,
   "metadata": {},
   "outputs": [],
   "source": [
    "train_rmse = []\n",
    "test_rmse = []\n",
    "train_r2 = []\n",
    "test_r2 = []"
   ]
  },
  {
   "cell_type": "markdown",
   "metadata": {},
   "source": [
    "### Gradient Boosting"
   ]
  },
  {
   "cell_type": "code",
   "execution_count": 18,
   "metadata": {},
   "outputs": [],
   "source": [
    "#GradientBoosting model\n",
    "gb_model = GradientBoostingRegressor(\n",
    "    n_estimators = 500, \n",
    "    max_depth = 8, \n",
    "    learning_rate = 0.3)"
   ]
  },
  {
   "cell_type": "code",
   "execution_count": 19,
   "metadata": {},
   "outputs": [],
   "source": [
    "#Training the Gradient boost model\n",
    "gb_model = gb_model.fit(x_train, y_train)"
   ]
  },
  {
   "cell_type": "code",
   "execution_count": 20,
   "metadata": {
    "scrolled": true
   },
   "outputs": [],
   "source": [
    "#Predict test\n",
    "y_pred=gb_model.predict(x_test)\n",
    "#Predict train\n",
    "train_pred = gb_model.predict(x_train)"
   ]
  },
  {
   "cell_type": "code",
   "execution_count": 21,
   "metadata": {},
   "outputs": [
    {
     "name": "stdout",
     "output_type": "stream",
     "text": [
      "rmse(Train): 0.17601133539453415\n",
      "rmse(Test): 0.24067671441368826\n"
     ]
    }
   ],
   "source": [
    "#train RMSE - Gradient Boosting\n",
    "mse1 = mean_squared_error(y_train, train_pred)\n",
    "rmse1 = sqrt(mse1)\n",
    "train_rmse.append(rmse1)\n",
    "print(\"rmse(Train):\", rmse1)\n",
    "#test RMSE - Gradient Boosting\n",
    "mse = mean_squared_error(y_test, y_pred)\n",
    "rmse = sqrt(mse)\n",
    "test_rmse.append(rmse)\n",
    "print(\"rmse(Test):\", rmse)"
   ]
  },
  {
   "cell_type": "code",
   "execution_count": 22,
   "metadata": {},
   "outputs": [
    {
     "name": "stdout",
     "output_type": "stream",
     "text": [
      "r_squared(Train): 0.9419211760677981\n",
      "r_squared(Test): 0.8907068581595659\n"
     ]
    }
   ],
   "source": [
    "#train R^2 - Gradient Boosting\n",
    "r_sqr1 = r2_score(y_train, train_pred)\n",
    "train_r2.append(r_sqr1)\n",
    "print(\"r_squared(Train):\",r_sqr1)\n",
    "#test R^2 - Gradient Boosting\n",
    "r_sqr = r2_score(y_test, y_pred)\n",
    "test_r2.append(r_sqr)\n",
    "print(\"r_squared(Test):\",r_sqr)"
   ]
  },
  {
   "cell_type": "code",
   "execution_count": 23,
   "metadata": {},
   "outputs": [
    {
     "data": {
      "text/html": [
       "<div>\n",
       "<style scoped>\n",
       "    .dataframe tbody tr th:only-of-type {\n",
       "        vertical-align: middle;\n",
       "    }\n",
       "\n",
       "    .dataframe tbody tr th {\n",
       "        vertical-align: top;\n",
       "    }\n",
       "\n",
       "    .dataframe thead th {\n",
       "        text-align: right;\n",
       "    }\n",
       "</style>\n",
       "<table border=\"1\" class=\"dataframe\">\n",
       "  <thead>\n",
       "    <tr style=\"text-align: right;\">\n",
       "      <th></th>\n",
       "      <th>feature</th>\n",
       "      <th>importance</th>\n",
       "    </tr>\n",
       "  </thead>\n",
       "  <tbody>\n",
       "    <tr>\n",
       "      <th>0</th>\n",
       "      <td>condition</td>\n",
       "      <td>0.011165</td>\n",
       "    </tr>\n",
       "    <tr>\n",
       "      <th>1</th>\n",
       "      <td>cylinders</td>\n",
       "      <td>0.090065</td>\n",
       "    </tr>\n",
       "    <tr>\n",
       "      <th>2</th>\n",
       "      <td>drive</td>\n",
       "      <td>0.061057</td>\n",
       "    </tr>\n",
       "    <tr>\n",
       "      <th>3</th>\n",
       "      <td>fuel</td>\n",
       "      <td>0.050463</td>\n",
       "    </tr>\n",
       "    <tr>\n",
       "      <th>4</th>\n",
       "      <td>manufacturer</td>\n",
       "      <td>0.064363</td>\n",
       "    </tr>\n",
       "    <tr>\n",
       "      <th>5</th>\n",
       "      <td>odometer</td>\n",
       "      <td>0.154561</td>\n",
       "    </tr>\n",
       "    <tr>\n",
       "      <th>6</th>\n",
       "      <td>state</td>\n",
       "      <td>0.012607</td>\n",
       "    </tr>\n",
       "    <tr>\n",
       "      <th>7</th>\n",
       "      <td>title</td>\n",
       "      <td>0.005652</td>\n",
       "    </tr>\n",
       "    <tr>\n",
       "      <th>8</th>\n",
       "      <td>transmission</td>\n",
       "      <td>0.005977</td>\n",
       "    </tr>\n",
       "    <tr>\n",
       "      <th>9</th>\n",
       "      <td>type</td>\n",
       "      <td>0.064515</td>\n",
       "    </tr>\n",
       "    <tr>\n",
       "      <th>10</th>\n",
       "      <td>year</td>\n",
       "      <td>0.479576</td>\n",
       "    </tr>\n",
       "  </tbody>\n",
       "</table>\n",
       "</div>"
      ],
      "text/plain": [
       "         feature  importance\n",
       "0      condition    0.011165\n",
       "1      cylinders    0.090065\n",
       "2          drive    0.061057\n",
       "3           fuel    0.050463\n",
       "4   manufacturer    0.064363\n",
       "5       odometer    0.154561\n",
       "6          state    0.012607\n",
       "7          title    0.005652\n",
       "8   transmission    0.005977\n",
       "9           type    0.064515\n",
       "10          year    0.479576"
      ]
     },
     "execution_count": 23,
     "metadata": {},
     "output_type": "execute_result"
    }
   ],
   "source": [
    "#feature importance for Gradient Boost Model\n",
    "cat_columns=['manufacturer','condition','cylinders','fuel','title_status','transmission','type','state']\n",
    "feature_imp = pd.DataFrame(list(zip(gb_model.feature_importances_,x_train)),columns = (\"importance\",\"features\"))\n",
    "\n",
    "feature_split = pd.DataFrame(feature_imp[\"features\"].str.split(\"_\",n = 1, expand = True))\n",
    "feature_cat = pd.concat([feature_imp[\"importance\"], feature_split], axis=1, join='inner')\n",
    "feature_cat.columns = [\"importance\",\"feature\",\"split2\"]\n",
    "feature_score = feature_cat.groupby('feature', as_index=False)['importance'].sum()\n",
    "feature_score"
   ]
  },
  {
   "cell_type": "code",
   "execution_count": 24,
   "metadata": {},
   "outputs": [
    {
     "data": {
      "image/png": "[encoded data removed]",
      "text/plain": [
       "<Figure size 864x432 with 1 Axes>"
      ]
     },
     "metadata": {
      "needs_background": "light"
     },
     "output_type": "display_data"
    }
   ],
   "source": [
    "#feature importance plot for gradient boosting model\n",
    "plt.figure(figsize=(12,6))\n",
    "sns.barplot(x=feature_score.feature, y=feature_score.importance,order = feature_score.sort_values('importance').feature)\n",
    "plt.title(\"Feature Importance for Gradient Boosting\")\n",
    "plt.ylabel(\"Importance\")\n",
    "plt.xlabel(\"Features\")\n",
    "plt.show()"
   ]
  },
  {
   "cell_type": "markdown",
   "metadata": {},
   "source": [
    "### XGBoost"
   ]
  },
  {
   "cell_type": "code",
   "execution_count": 25,
   "metadata": {},
   "outputs": [],
   "source": [
    "#XGBoost Model\n",
    "regressor = xgb.XGBRegressor(\n",
    "    n_estimators=100,\n",
    "    reg_lambda=1,\n",
    "    gamma=0,\n",
    "    max_depth=5\n",
    ")"
   ]
  },
  {
   "cell_type": "code",
   "execution_count": 26,
   "metadata": {},
   "outputs": [
    {
     "data": {
      "text/plain": [
       "XGBRegressor(base_score=0.5, booster='gbtree', colsample_bylevel=1,\n",
       "             colsample_bynode=1, colsample_bytree=1, gamma=0, gpu_id=-1,\n",
       "             importance_type='gain', interaction_constraints='',\n",
       "             learning_rate=0.300000012, max_delta_step=0, max_depth=5,\n",
       "             min_child_weight=1, missing=nan, monotone_constraints='()',\n",
       "             n_estimators=100, n_jobs=12, num_parallel_tree=1, random_state=0,\n",
       "             reg_alpha=0, reg_lambda=1, scale_pos_weight=1, subsample=1,\n",
       "             tree_method='exact', validate_parameters=1, verbosity=None)"
      ]
     },
     "execution_count": 26,
     "metadata": {},
     "output_type": "execute_result"
    }
   ],
   "source": [
    "#Training the XGBoost Model\n",
    "regressor.fit(x_train, y_train)"
   ]
  },
  {
   "cell_type": "code",
   "execution_count": 27,
   "metadata": {},
   "outputs": [],
   "source": [
    "#Predict test\n",
    "y_pred = regressor.predict(x_test)\n",
    "#Predict train\n",
    "train_pred = regressor.predict(x_train)"
   ]
  },
  {
   "cell_type": "code",
   "execution_count": 28,
   "metadata": {},
   "outputs": [
    {
     "name": "stdout",
     "output_type": "stream",
     "text": [
      "rmse(Train): 0.27548923266175107\n",
      "rmse(Test): 0.2833384330049441\n"
     ]
    }
   ],
   "source": [
    "#train RMSE - XGBoost\n",
    "mse_train = mean_squared_error(y_train, train_pred)\n",
    "rmse = math.sqrt(mse_train)\n",
    "train_rmse.append(rmse)\n",
    "print(\"rmse(Train):\",rmse)\n",
    "#test RMSE - XGBoost\n",
    "mse = mean_squared_error(y_test,y_pred)\n",
    "rmse=math.sqrt(mse)\n",
    "test_rmse.append(rmse)\n",
    "rmse\n",
    "print(\"rmse(Test):\",rmse)"
   ]
  },
  {
   "cell_type": "code",
   "execution_count": 29,
   "metadata": {},
   "outputs": [
    {
     "name": "stdout",
     "output_type": "stream",
     "text": [
      "r_squared(Train): 0.8577193644674471\n",
      "r_squared(Test): 0.8485268217508458\n"
     ]
    }
   ],
   "source": [
    "#train R^2 - XGBoost\n",
    "r_sqr1 = r2_score(y_train, train_pred)\n",
    "print(\"r_squared(Train):\",r_sqr1)\n",
    "train_r2.append(r_sqr1)\n",
    "#test R^2 - XGBoost\n",
    "r_sqr = r2_score(y_test, y_pred)\n",
    "test_r2.append(r_sqr)\n",
    "print(\"r_squared(Test):\",r_sqr)"
   ]
  },
  {
   "cell_type": "code",
   "execution_count": 30,
   "metadata": {},
   "outputs": [],
   "source": [
    "pickle.dump(regressor, open('XG.pkl','wb'))"
   ]
  },
  {
   "cell_type": "code",
   "execution_count": 31,
   "metadata": {},
   "outputs": [
    {
     "data": {
      "text/html": [
       "<div>\n",
       "<style scoped>\n",
       "    .dataframe tbody tr th:only-of-type {\n",
       "        vertical-align: middle;\n",
       "    }\n",
       "\n",
       "    .dataframe tbody tr th {\n",
       "        vertical-align: top;\n",
       "    }\n",
       "\n",
       "    .dataframe thead th {\n",
       "        text-align: right;\n",
       "    }\n",
       "</style>\n",
       "<table border=\"1\" class=\"dataframe\">\n",
       "  <thead>\n",
       "    <tr style=\"text-align: right;\">\n",
       "      <th></th>\n",
       "      <th>feature</th>\n",
       "      <th>importance</th>\n",
       "    </tr>\n",
       "  </thead>\n",
       "  <tbody>\n",
       "    <tr>\n",
       "      <th>0</th>\n",
       "      <td>condition</td>\n",
       "      <td>0.016470</td>\n",
       "    </tr>\n",
       "    <tr>\n",
       "      <th>1</th>\n",
       "      <td>cylinders</td>\n",
       "      <td>0.028663</td>\n",
       "    </tr>\n",
       "    <tr>\n",
       "      <th>2</th>\n",
       "      <td>drive</td>\n",
       "      <td>0.045809</td>\n",
       "    </tr>\n",
       "    <tr>\n",
       "      <th>3</th>\n",
       "      <td>fuel</td>\n",
       "      <td>0.121036</td>\n",
       "    </tr>\n",
       "    <tr>\n",
       "      <th>4</th>\n",
       "      <td>manufacturer</td>\n",
       "      <td>0.404269</td>\n",
       "    </tr>\n",
       "    <tr>\n",
       "      <th>5</th>\n",
       "      <td>odometer</td>\n",
       "      <td>0.027604</td>\n",
       "    </tr>\n",
       "    <tr>\n",
       "      <th>6</th>\n",
       "      <td>state</td>\n",
       "      <td>0.021960</td>\n",
       "    </tr>\n",
       "    <tr>\n",
       "      <th>7</th>\n",
       "      <td>title</td>\n",
       "      <td>0.021583</td>\n",
       "    </tr>\n",
       "    <tr>\n",
       "      <th>8</th>\n",
       "      <td>transmission</td>\n",
       "      <td>0.018939</td>\n",
       "    </tr>\n",
       "    <tr>\n",
       "      <th>9</th>\n",
       "      <td>type</td>\n",
       "      <td>0.178855</td>\n",
       "    </tr>\n",
       "    <tr>\n",
       "      <th>10</th>\n",
       "      <td>year</td>\n",
       "      <td>0.114812</td>\n",
       "    </tr>\n",
       "  </tbody>\n",
       "</table>\n",
       "</div>"
      ],
      "text/plain": [
       "         feature  importance\n",
       "0      condition    0.016470\n",
       "1      cylinders    0.028663\n",
       "2          drive    0.045809\n",
       "3           fuel    0.121036\n",
       "4   manufacturer    0.404269\n",
       "5       odometer    0.027604\n",
       "6          state    0.021960\n",
       "7          title    0.021583\n",
       "8   transmission    0.018939\n",
       "9           type    0.178855\n",
       "10          year    0.114812"
      ]
     },
     "execution_count": 31,
     "metadata": {},
     "output_type": "execute_result"
    }
   ],
   "source": [
    "#feature importance for XGBoost Model\n",
    "cat_columns=['manufacturer','condition','cylinders','fuel','title_status','transmission','type','state']\n",
    "feature_imp = pd.DataFrame(list(zip(regressor.feature_importances_,x_train)),columns = (\"importance\",\"features\"))\n",
    "\n",
    "feature_split = pd.DataFrame(feature_imp[\"features\"].str.split(\"_\",n = 1, expand = True))\n",
    "feature_cat = pd.concat([feature_imp[\"importance\"], feature_split], axis=1, join='inner')\n",
    "feature_cat.columns = [\"importance\",\"feature\",\"split2\"]\n",
    "feature_score = feature_cat.groupby('feature', as_index=False)['importance'].sum()\n",
    "feature_score"
   ]
  },
  {
   "cell_type": "code",
   "execution_count": 32,
   "metadata": {},
   "outputs": [
    {
     "data": {
      "image/png": "[encoded data removed]",
      "text/plain": [
       "<Figure size 864x432 with 1 Axes>"
      ]
     },
     "metadata": {
      "needs_background": "light"
     },
     "output_type": "display_data"
    }
   ],
   "source": [
    "#feature importance plot for XGBoost model\n",
    "plt.figure(figsize=(12,6))\n",
    "sns.barplot(x=feature_score.feature, y=feature_score.importance,order = feature_score.sort_values('importance').feature)\n",
    "plt.title(\"Feature Importance for XGBoost\")\n",
    "plt.ylabel(\"Importance\")\n",
    "plt.xlabel(\"Features\")\n",
    "plt.show()"
   ]
  },
  {
   "cell_type": "markdown",
   "metadata": {},
   "source": [
    "### Random Forest"
   ]
  },
  {
   "cell_type": "code",
   "execution_count": 33,
   "metadata": {},
   "outputs": [],
   "source": [
    "#Random Forest Model\n",
    "random_forest = RandomForestRegressor(\n",
    "    n_estimators=20, \n",
    "    random_state=0,\n",
    "    n_jobs=-1)"
   ]
  },
  {
   "cell_type": "code",
   "execution_count": 34,
   "metadata": {},
   "outputs": [
    {
     "data": {
      "text/plain": [
       "RandomForestRegressor(n_estimators=20, n_jobs=-1, random_state=0)"
      ]
     },
     "execution_count": 34,
     "metadata": {},
     "output_type": "execute_result"
    }
   ],
   "source": [
    "#Training the Random Forest model\n",
    "random_forest.fit(x_train,y_train)"
   ]
  },
  {
   "cell_type": "code",
   "execution_count": 35,
   "metadata": {},
   "outputs": [],
   "source": [
    "#predict test\n",
    "y_pred_test = random_forest.predict(x_test)\n",
    "#predict train\n",
    "y_pred_train = random_forest.predict(x_train)"
   ]
  },
  {
   "cell_type": "code",
   "execution_count": null,
   "metadata": {},
   "outputs": [],
   "source": []
  },
  {
   "cell_type": "code",
   "execution_count": 36,
   "metadata": {},
   "outputs": [
    {
     "name": "stdout",
     "output_type": "stream",
     "text": [
      "rmse(Train): 0.0944379846368207\n",
      "rmse(Test): 0.23735193205934563\n"
     ]
    }
   ],
   "source": [
    "#train RMSE - Random Forest\n",
    "mse_train = mean_squared_error(y_train, y_pred_train)\n",
    "rmse = math.sqrt(mse_train)\n",
    "train_rmse.append(rmse)\n",
    "print(\"rmse(Train):\",rmse)\n",
    "#test RMSE - Random Forest\n",
    "mse = mean_squared_error(y_test,y_pred_test)\n",
    "rmse=math.sqrt(mse)\n",
    "test_rmse.append(rmse)\n",
    "rmse\n",
    "print(\"rmse(Test):\",rmse)"
   ]
  },
  {
   "cell_type": "code",
   "execution_count": 37,
   "metadata": {},
   "outputs": [
    {
     "name": "stdout",
     "output_type": "stream",
     "text": [
      "r_squared(Train): 0.9832802431067738\n",
      "r_squared(Test): 0.8937056195219538\n"
     ]
    }
   ],
   "source": [
    "#train R^2 - Random Forest\n",
    "r_sqr1 = r2_score(y_train, y_pred_train)\n",
    "print(\"r_squared(Train):\",r_sqr1)\n",
    "train_r2.append(r_sqr1)\n",
    "#test R^2 - Random Forest\n",
    "r_sqr = r2_score(y_test, y_pred_test)\n",
    "test_r2.append(r_sqr)\n",
    "print(\"r_squared(Test):\",r_sqr)"
   ]
  },
  {
   "cell_type": "code",
   "execution_count": 38,
   "metadata": {},
   "outputs": [
    {
     "data": {
      "text/html": [
       "<div>\n",
       "<style scoped>\n",
       "    .dataframe tbody tr th:only-of-type {\n",
       "        vertical-align: middle;\n",
       "    }\n",
       "\n",
       "    .dataframe tbody tr th {\n",
       "        vertical-align: top;\n",
       "    }\n",
       "\n",
       "    .dataframe thead th {\n",
       "        text-align: right;\n",
       "    }\n",
       "</style>\n",
       "<table border=\"1\" class=\"dataframe\">\n",
       "  <thead>\n",
       "    <tr style=\"text-align: right;\">\n",
       "      <th></th>\n",
       "      <th>feature</th>\n",
       "      <th>importance</th>\n",
       "    </tr>\n",
       "  </thead>\n",
       "  <tbody>\n",
       "    <tr>\n",
       "      <th>0</th>\n",
       "      <td>condition</td>\n",
       "      <td>0.017003</td>\n",
       "    </tr>\n",
       "    <tr>\n",
       "      <th>1</th>\n",
       "      <td>cylinders</td>\n",
       "      <td>0.082800</td>\n",
       "    </tr>\n",
       "    <tr>\n",
       "      <th>2</th>\n",
       "      <td>drive</td>\n",
       "      <td>0.061298</td>\n",
       "    </tr>\n",
       "    <tr>\n",
       "      <th>3</th>\n",
       "      <td>fuel</td>\n",
       "      <td>0.049130</td>\n",
       "    </tr>\n",
       "    <tr>\n",
       "      <th>4</th>\n",
       "      <td>manufacturer</td>\n",
       "      <td>0.081941</td>\n",
       "    </tr>\n",
       "    <tr>\n",
       "      <th>5</th>\n",
       "      <td>odometer</td>\n",
       "      <td>0.169354</td>\n",
       "    </tr>\n",
       "    <tr>\n",
       "      <th>6</th>\n",
       "      <td>state</td>\n",
       "      <td>0.019170</td>\n",
       "    </tr>\n",
       "    <tr>\n",
       "      <th>7</th>\n",
       "      <td>title</td>\n",
       "      <td>0.006058</td>\n",
       "    </tr>\n",
       "    <tr>\n",
       "      <th>8</th>\n",
       "      <td>transmission</td>\n",
       "      <td>0.008127</td>\n",
       "    </tr>\n",
       "    <tr>\n",
       "      <th>9</th>\n",
       "      <td>type</td>\n",
       "      <td>0.053183</td>\n",
       "    </tr>\n",
       "    <tr>\n",
       "      <th>10</th>\n",
       "      <td>year</td>\n",
       "      <td>0.451935</td>\n",
       "    </tr>\n",
       "  </tbody>\n",
       "</table>\n",
       "</div>"
      ],
      "text/plain": [
       "         feature  importance\n",
       "0      condition    0.017003\n",
       "1      cylinders    0.082800\n",
       "2          drive    0.061298\n",
       "3           fuel    0.049130\n",
       "4   manufacturer    0.081941\n",
       "5       odometer    0.169354\n",
       "6          state    0.019170\n",
       "7          title    0.006058\n",
       "8   transmission    0.008127\n",
       "9           type    0.053183\n",
       "10          year    0.451935"
      ]
     },
     "execution_count": 38,
     "metadata": {},
     "output_type": "execute_result"
    }
   ],
   "source": [
    "#feature importance for Random Forest\n",
    "cat_columns=['manufacturer','condition','cylinders','fuel','title_status','transmission','type','state']\n",
    "feature_imp = pd.DataFrame(list(zip(random_forest.feature_importances_,x_train)),columns = (\"importance\",\"features\"))\n",
    "\n",
    "feature_split = pd.DataFrame(feature_imp[\"features\"].str.split(\"_\",n = 1, expand = True))\n",
    "feature_cat = pd.concat([feature_imp[\"importance\"], feature_split], axis=1, join='inner')\n",
    "feature_cat.columns = [\"importance\",\"feature\",\"split2\"]\n",
    "feature_score = feature_cat.groupby('feature', as_index=False)['importance'].sum()\n",
    "feature_score"
   ]
  },
  {
   "cell_type": "code",
   "execution_count": 39,
   "metadata": {},
   "outputs": [
    {
     "data": {
      "image/png": "[encoded data removed]",
      "text/plain": [
       "<Figure size 864x432 with 1 Axes>"
      ]
     },
     "metadata": {
      "needs_background": "light"
     },
     "output_type": "display_data"
    }
   ],
   "source": [
    "#feature importance plot for XGBoost model\n",
    "plt.figure(figsize=(12,6))\n",
    "sns.barplot(x=feature_score.feature, y=feature_score.importance,order = feature_score.sort_values('importance').feature)\n",
    "plt.title(\"Feature Importance for Random Forest\")\n",
    "plt.ylabel(\"Importance\")\n",
    "plt.xlabel(\"Features\")\n",
    "plt.show()"
   ]
  },
  {
   "cell_type": "markdown",
   "metadata": {},
   "source": [
    "### Average Regressor"
   ]
  },
  {
   "cell_type": "code",
   "execution_count": 40,
   "metadata": {},
   "outputs": [],
   "source": [
    "#Modeling for Average Regressor\n",
    "#Gradient Boosting\n",
    "y_gbtest_pred = gb_model.predict(x_test)\n",
    "y_gbtrain_pred = gb_model.predict(x_train)\n",
    "#XGBoost\n",
    "y_xgtest_pred = regressor.predict(x_test)\n",
    "y_xgtrain_pred = regressor.predict(x_train)\n",
    "#Random Forest\n",
    "y_rftest_pred = random_forest.predict(x_test)\n",
    "y_rftrain_pred = random_forest.predict(x_train)"
   ]
  },
  {
   "cell_type": "code",
   "execution_count": 41,
   "metadata": {},
   "outputs": [],
   "source": [
    "#Average Regressor Model\n",
    "avg_test_pred = (0.4*y_rftest_pred + 0.35*y_gbtest_pred + 0.25*y_xgtest_pred)\n",
    "avg_train_pred = (0.4*y_rftrain_pred + 0.35*y_gbtrain_pred + 0.25*y_xgtrain_pred)"
   ]
  },
  {
   "cell_type": "code",
   "execution_count": 42,
   "metadata": {},
   "outputs": [
    {
     "name": "stdout",
     "output_type": "stream",
     "text": [
      "rmse(Train): 0.1529891074346607\n",
      "rmse(Test): 0.23048801201530256\n"
     ]
    }
   ],
   "source": [
    "#train RMSE - Average Regressor\n",
    "mse_train = mean_squared_error(y_train, avg_train_pred)\n",
    "rmse = math.sqrt(mse_train)\n",
    "train_rmse.append(rmse)\n",
    "print(\"rmse(Train):\",rmse)\n",
    "#test RMSE - Average Regressor\n",
    "mse = mean_squared_error(y_test,avg_test_pred)\n",
    "rmse=math.sqrt(mse)\n",
    "test_rmse.append(rmse)\n",
    "rmse\n",
    "print(\"rmse(Test):\",rmse)"
   ]
  },
  {
   "cell_type": "code",
   "execution_count": 43,
   "metadata": {},
   "outputs": [
    {
     "name": "stdout",
     "output_type": "stream",
     "text": [
      "r_squared(Train): 0.9561209153353927\n",
      "r_squared(Test): 0.8997645263968529\n"
     ]
    }
   ],
   "source": [
    "#train R^2 - Average Regressor\n",
    "r_sqr1 = r2_score(y_train, avg_train_pred)\n",
    "print(\"r_squared(Train):\",r_sqr1)\n",
    "train_r2.append(r_sqr1)\n",
    "#test R^2 - Average Regressor\n",
    "r_sqr = r2_score(y_test, avg_test_pred)\n",
    "test_r2.append(r_sqr)\n",
    "print(\"r_squared(Test):\",r_sqr)"
   ]
  },
  {
   "cell_type": "markdown",
   "metadata": {},
   "source": [
    "### Lasso Regression"
   ]
  },
  {
   "cell_type": "code",
   "execution_count": 44,
   "metadata": {},
   "outputs": [],
   "source": [
    "#Lasso Regression model\n",
    "lassoRegressor=Lasso(alpha= 0.007761033)"
   ]
  },
  {
   "cell_type": "code",
   "execution_count": 45,
   "metadata": {},
   "outputs": [
    {
     "data": {
      "text/plain": [
       "Lasso(alpha=0.007761033)"
      ]
     },
     "execution_count": 45,
     "metadata": {},
     "output_type": "execute_result"
    }
   ],
   "source": [
    "#Training the model\n",
    "lassoRegressor.fit(x_train,y_train)"
   ]
  },
  {
   "cell_type": "code",
   "execution_count": 46,
   "metadata": {},
   "outputs": [],
   "source": [
    "#predict train\n",
    "lassoTrainPrediction=lassoRegressor.predict(x_train)\n",
    "#predict test\n",
    "lassoTestPrediction=lassoRegressor.predict(x_test)"
   ]
  },
  {
   "cell_type": "code",
   "execution_count": 47,
   "metadata": {},
   "outputs": [
    {
     "name": "stdout",
     "output_type": "stream",
     "text": [
      "rmse(Train): 0.39881175668101554\n",
      "rmse(Test): 0.40101499468558394\n"
     ]
    }
   ],
   "source": [
    "#train RMSE - Lasso Regression\n",
    "mse_train = mean_squared_error(y_train, lassoTrainPrediction)\n",
    "rmse = math.sqrt(mse_train)\n",
    "train_rmse.append(rmse)\n",
    "print(\"rmse(Train):\",rmse)\n",
    "#test RMSE - Lasso Regression\n",
    "mse = mean_squared_error(y_test,lassoTestPrediction)\n",
    "rmse=math.sqrt(mse)\n",
    "test_rmse.append(rmse)\n",
    "rmse\n",
    "print(\"rmse(Test):\",rmse)"
   ]
  },
  {
   "cell_type": "code",
   "execution_count": 48,
   "metadata": {},
   "outputs": [
    {
     "name": "stdout",
     "output_type": "stream",
     "text": [
      "r_squared(Train): 0.7018241659711835\n",
      "r_squared(Test): 0.6965787546457696\n"
     ]
    }
   ],
   "source": [
    "#train R^2 - Lasso Regression\n",
    "r_sqr1 = r2_score(y_train, lassoTrainPrediction)\n",
    "print(\"r_squared(Train):\",r_sqr1)\n",
    "train_r2.append(r_sqr1)\n",
    "#test R^2 - Lasso Regression\n",
    "r_sqr = r2_score(y_test, lassoTestPrediction)\n",
    "test_r2.append(r_sqr)\n",
    "print(\"r_squared(Test):\",r_sqr)"
   ]
  },
  {
   "cell_type": "markdown",
   "metadata": {},
   "source": [
    "### Ridge Regression"
   ]
  },
  {
   "cell_type": "code",
   "execution_count": 49,
   "metadata": {},
   "outputs": [],
   "source": [
    "#Ridge Regression Model\n",
    "ridgeRegressor=Ridge(alpha=0.415545)"
   ]
  },
  {
   "cell_type": "code",
   "execution_count": 50,
   "metadata": {},
   "outputs": [
    {
     "data": {
      "text/plain": [
       "Ridge(alpha=0.415545)"
      ]
     },
     "execution_count": 50,
     "metadata": {},
     "output_type": "execute_result"
    }
   ],
   "source": [
    "#Training the model\n",
    "ridgeRegressor.fit(x_train,y_train)"
   ]
  },
  {
   "cell_type": "code",
   "execution_count": 51,
   "metadata": {},
   "outputs": [],
   "source": [
    "#predict train\n",
    "trainPrediction=ridgeRegressor.predict(x_train)\n",
    "#predict test\n",
    "testPrediction=ridgeRegressor.predict(x_test)"
   ]
  },
  {
   "cell_type": "code",
   "execution_count": 52,
   "metadata": {},
   "outputs": [
    {
     "name": "stdout",
     "output_type": "stream",
     "text": [
      "rmse(Train): 0.1529891074346607\n",
      "rmse(Test): 0.23048801201530256\n"
     ]
    }
   ],
   "source": [
    "#train RMSE - Ridge Regression\n",
    "mse_train = mean_squared_error(y_train, avg_train_pred)\n",
    "rmse = math.sqrt(mse_train)\n",
    "train_rmse.append(rmse)\n",
    "print(\"rmse(Train):\",rmse)\n",
    "#test RMSE - Ridge Regression\n",
    "mse = mean_squared_error(y_test,avg_test_pred)\n",
    "rmse=math.sqrt(mse)\n",
    "test_rmse.append(rmse)\n",
    "rmse\n",
    "print(\"rmse(Test):\",rmse)"
   ]
  },
  {
   "cell_type": "code",
   "execution_count": 53,
   "metadata": {},
   "outputs": [
    {
     "name": "stdout",
     "output_type": "stream",
     "text": [
      "r_squared(Train): 0.9561209153353927\n",
      "r_squared(Test): 0.8997645263968529\n"
     ]
    }
   ],
   "source": [
    "#train R^2 - Ridge Regression\n",
    "r_sqr1 = r2_score(y_train, avg_train_pred)\n",
    "train_r2.append(r_sqr1)\n",
    "print(\"r_squared(Train):\",r_sqr1)\n",
    "#test R^2 - Ridge Regression\n",
    "r_sqr = r2_score(y_test, avg_test_pred)\n",
    "test_r2.append(r_sqr)\n",
    "print(\"r_squared(Test):\",r_sqr)"
   ]
  },
  {
   "cell_type": "markdown",
   "metadata": {},
   "source": [
    "### Plotting the RMSE and R^2 values"
   ]
  },
  {
   "cell_type": "code",
   "execution_count": 54,
   "metadata": {},
   "outputs": [],
   "source": [
    "models = ['Gradient Boosting', 'XGBoost', 'Random Forest', 'Average Regressor', 'Lasso Regression', 'Ridge REgression']"
   ]
  },
  {
   "cell_type": "code",
   "execution_count": 55,
   "metadata": {},
   "outputs": [
    {
     "data": {
      "image/png": "[encoded data removed]",
      "text/plain": [
       "<Figure size 1800x432 with 1 Axes>"
      ]
     },
     "metadata": {
      "needs_background": "light"
     },
     "output_type": "display_data"
    }
   ],
   "source": [
    "plt.figure(figsize=[25,6])\n",
    "x = models\n",
    "plt.tick_params(labelsize=14)\n",
    "plt.plot(x, train_rmse, label = 'train_rmse')\n",
    "plt.plot(x, test_rmse, label = 'test_rmse')\n",
    "plt.legend()\n",
    "plt.title('RMSE-criterion for popular models for train and test datasets')\n",
    "plt.xlabel('Models')\n",
    "plt.ylabel('RMSE-criterion, %')\n",
    "plt.xticks(x, rotation='vertical')\n",
    "plt.show()"
   ]
  },
  {
   "cell_type": "code",
   "execution_count": 56,
   "metadata": {},
   "outputs": [
    {
     "data": {
      "image/png": "[encoded data removed]",
      "text/plain": [
       "<Figure size 1800x432 with 1 Axes>"
      ]
     },
     "metadata": {
      "needs_background": "light"
     },
     "output_type": "display_data"
    }
   ],
   "source": [
    "plt.figure(figsize=[25,6])\n",
    "x = models\n",
    "plt.tick_params(labelsize=14)\n",
    "plt.plot(x, train_r2, label = 'train_r2')\n",
    "plt.plot(x, test_r2, label = 'test_r2')\n",
    "plt.legend()\n",
    "plt.title('R2-criterion for popular models for train and test datasets')\n",
    "plt.xlabel('Models')\n",
    "plt.ylabel('R2-criterion, %')\n",
    "plt.xticks(x, rotation='vertical')\n",
    "plt.show()"
   ]
  },
  {
   "cell_type": "markdown",
   "metadata": {},
   "source": [
    "### Deployment"
   ]
  },
  {
   "cell_type": "code",
   "execution_count": 57,
   "metadata": {},
   "outputs": [],
   "source": [
    "#Serilization and De-serialization using Pickle\n",
    "pickle.dump(random_forest, open('Model.pkl','wb'))"
   ]
  },
  {
   "cell_type": "code",
   "execution_count": 58,
   "metadata": {},
   "outputs": [],
   "source": [
    "pd.Series(train_df.columns).to_pickle(\"./columns.pkl\")"
   ]
  }
 ],
 "metadata": {
  "kernelspec": {
   "display_name": "Python 3",
   "language": "python",
   "name": "python3"
  },
  "language_info": {
   "codemirror_mode": {
    "name": "ipython",
    "version": 3
   },
   "file_extension": ".py",
   "mimetype": "text/x-python",
   "name": "python",
   "nbconvert_exporter": "python",
   "pygments_lexer": "ipython3",
   "version": "3.8.5"
  }
 },
 "nbformat": 4,
 "nbformat_minor": 4
}
