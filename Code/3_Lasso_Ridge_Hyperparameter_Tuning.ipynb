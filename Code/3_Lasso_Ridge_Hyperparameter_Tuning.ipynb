{
 "cells": [
  {
   "cell_type": "code",
   "execution_count": 26,
   "metadata": {
    "id": "j9eUS4KJDzbn"
   },
   "outputs": [],
   "source": [
    "import pandas as pd\n",
    "import numpy as np\n",
    "import scipy\n",
    "import matplotlib.pyplot as plt\n",
    "import math\n",
    "from sklearn.linear_model import LinearRegression\n",
    "import seaborn as sns\n",
    "from sklearn.preprocessing import LabelEncoder\n",
    "from sklearn.preprocessing import OneHotEncoder\n",
    "import sklearn\n",
    "from sklearn import ensemble\n",
    "from sklearn.metrics import mean_squared_error\n",
    "from sklearn.ensemble import RandomForestRegressor\n",
    "import pickle\n",
    "from scipy.stats import uniform \n",
    "from sklearn.model_selection import RandomizedSearchCV\n",
    "from sklearn.linear_model import Ridge\n",
    "from sklearn.linear_model import Lasso"
   ]
  },
  {
   "cell_type": "code",
   "execution_count": 27,
   "metadata": {
    "colab": {
     "base_uri": "https://localhost:8080/",
     "height": 73,
     "resources": {
      "http://localhost:8080/nbextensions/google.colab/files.js": {
       "data": "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",
       "headers": [
        [
         "content-type",
         "application/javascript"
        ]
       ],
       "ok": true,
       "status": 200,
       "status_text": ""
      }
     }
    },
    "id": "VfpC1LPHD9ES",
    "outputId": "4ad7a095-c296-484d-b37f-73c755b88688"
   },
   "outputs": [],
   "source": [
    "# from google.colab import files\n",
    "# uploaded = files.upload()"
   ]
  },
  {
   "cell_type": "code",
   "execution_count": 28,
   "metadata": {
    "id": "jdRGsNI2D8wo"
   },
   "outputs": [],
   "source": [
    "import io\n",
    "df = pd.read_csv('cleaned2.csv')\n",
    "# Dataset is now stored in a Pandas Dataframe"
   ]
  },
  {
   "cell_type": "code",
   "execution_count": 29,
   "metadata": {
    "id": "QLJ7cMPhDzbt"
   },
   "outputs": [],
   "source": [
    "# df = pd.read_csv(r\"D:\\All_Docs\\Masters\\CS 584 Machine Learning\\Project\\Data\\cleaned2.csv\")"
   ]
  },
  {
   "cell_type": "code",
   "execution_count": 30,
   "metadata": {
    "colab": {
     "base_uri": "https://localhost:8080/",
     "height": 198
    },
    "id": "bbXhnaGrDzbu",
    "outputId": "a78df58a-eeb5-4b1c-cf0d-4c0914ec2777"
   },
   "outputs": [
    {
     "data": {
      "text/html": [
       "<div>\n",
       "<style scoped>\n",
       "    .dataframe tbody tr th:only-of-type {\n",
       "        vertical-align: middle;\n",
       "    }\n",
       "\n",
       "    .dataframe tbody tr th {\n",
       "        vertical-align: top;\n",
       "    }\n",
       "\n",
       "    .dataframe thead th {\n",
       "        text-align: right;\n",
       "    }\n",
       "</style>\n",
       "<table border=\"1\" class=\"dataframe\">\n",
       "  <thead>\n",
       "    <tr style=\"text-align: right;\">\n",
       "      <th></th>\n",
       "      <th>Unnamed: 0</th>\n",
       "      <th>price</th>\n",
       "      <th>year</th>\n",
       "      <th>manufacturer</th>\n",
       "      <th>condition</th>\n",
       "      <th>cylinders</th>\n",
       "      <th>fuel</th>\n",
       "      <th>odometer</th>\n",
       "      <th>title_status</th>\n",
       "      <th>transmission</th>\n",
       "      <th>drive</th>\n",
       "      <th>type</th>\n",
       "      <th>state</th>\n",
       "    </tr>\n",
       "  </thead>\n",
       "  <tbody>\n",
       "    <tr>\n",
       "      <th>0</th>\n",
       "      <td>0</td>\n",
       "      <td>35990</td>\n",
       "      <td>2010.0</td>\n",
       "      <td>chevrolet</td>\n",
       "      <td>good</td>\n",
       "      <td>8 cylinders</td>\n",
       "      <td>gas</td>\n",
       "      <td>32742.0</td>\n",
       "      <td>clean</td>\n",
       "      <td>other</td>\n",
       "      <td>2</td>\n",
       "      <td>other</td>\n",
       "      <td>south</td>\n",
       "    </tr>\n",
       "    <tr>\n",
       "      <th>1</th>\n",
       "      <td>1</td>\n",
       "      <td>7500</td>\n",
       "      <td>2014.0</td>\n",
       "      <td>hyundai</td>\n",
       "      <td>excellent</td>\n",
       "      <td>4 cylinders</td>\n",
       "      <td>gas</td>\n",
       "      <td>93600.0</td>\n",
       "      <td>clean</td>\n",
       "      <td>automatic</td>\n",
       "      <td>2</td>\n",
       "      <td>sedan</td>\n",
       "      <td>south</td>\n",
       "    </tr>\n",
       "    <tr>\n",
       "      <th>2</th>\n",
       "      <td>2</td>\n",
       "      <td>4900</td>\n",
       "      <td>2006.0</td>\n",
       "      <td>bmw</td>\n",
       "      <td>good</td>\n",
       "      <td>6 cylinders</td>\n",
       "      <td>gas</td>\n",
       "      <td>87046.0</td>\n",
       "      <td>clean</td>\n",
       "      <td>automatic</td>\n",
       "      <td>2</td>\n",
       "      <td>SUV</td>\n",
       "      <td>south</td>\n",
       "    </tr>\n",
       "    <tr>\n",
       "      <th>3</th>\n",
       "      <td>5</td>\n",
       "      <td>29590</td>\n",
       "      <td>2016.0</td>\n",
       "      <td>toyota</td>\n",
       "      <td>good</td>\n",
       "      <td>6 cylinders</td>\n",
       "      <td>gas</td>\n",
       "      <td>33290.0</td>\n",
       "      <td>clean</td>\n",
       "      <td>other</td>\n",
       "      <td>4</td>\n",
       "      <td>pickup</td>\n",
       "      <td>south</td>\n",
       "    </tr>\n",
       "    <tr>\n",
       "      <th>4</th>\n",
       "      <td>6</td>\n",
       "      <td>39990</td>\n",
       "      <td>2012.0</td>\n",
       "      <td>ford</td>\n",
       "      <td>good</td>\n",
       "      <td>8 cylinders</td>\n",
       "      <td>gas</td>\n",
       "      <td>9692.0</td>\n",
       "      <td>clean</td>\n",
       "      <td>other</td>\n",
       "      <td>2</td>\n",
       "      <td>coupe</td>\n",
       "      <td>south</td>\n",
       "    </tr>\n",
       "  </tbody>\n",
       "</table>\n",
       "</div>"
      ],
      "text/plain": [
       "   Unnamed: 0  price    year manufacturer  condition    cylinders fuel  \\\n",
       "0           0  35990  2010.0    chevrolet       good  8 cylinders  gas   \n",
       "1           1   7500  2014.0      hyundai  excellent  4 cylinders  gas   \n",
       "2           2   4900  2006.0          bmw       good  6 cylinders  gas   \n",
       "3           5  29590  2016.0       toyota       good  6 cylinders  gas   \n",
       "4           6  39990  2012.0         ford       good  8 cylinders  gas   \n",
       "\n",
       "   odometer title_status transmission  drive    type  state  \n",
       "0   32742.0        clean        other      2   other  south  \n",
       "1   93600.0        clean    automatic      2   sedan  south  \n",
       "2   87046.0        clean    automatic      2     SUV  south  \n",
       "3   33290.0        clean        other      4  pickup  south  \n",
       "4    9692.0        clean        other      2   coupe  south  "
      ]
     },
     "execution_count": 30,
     "metadata": {},
     "output_type": "execute_result"
    }
   ],
   "source": [
    "df.head()"
   ]
  },
  {
   "cell_type": "code",
   "execution_count": 31,
   "metadata": {
    "id": "36NV8bC_Dzbu"
   },
   "outputs": [],
   "source": [
    "df[\"price\"]=np.log1p(df[\"price\"])"
   ]
  },
  {
   "cell_type": "markdown",
   "metadata": {
    "id": "11uPaVwwDzbv"
   },
   "source": [
    "## Encoding"
   ]
  },
  {
   "cell_type": "markdown",
   "metadata": {
    "id": "RF3SV4boDzbv"
   },
   "source": [
    "### For Numerical Data"
   ]
  },
  {
   "cell_type": "markdown",
   "metadata": {
    "id": "Qc27z6WeDzbv"
   },
   "source": [
    "#### year"
   ]
  },
  {
   "cell_type": "code",
   "execution_count": 32,
   "metadata": {
    "id": "PcwfDWK2Dzbw"
   },
   "outputs": [],
   "source": [
    "year_min = df[\"year\"].min()\n",
    "year_max = df[\"year\"].max()\n",
    "df[\"year\"] = ((df[\"year\"] - year_min) / (year_max - year_min))"
   ]
  },
  {
   "cell_type": "markdown",
   "metadata": {
    "id": "T9GcZyR7Dzbw"
   },
   "source": [
    "#### odometer"
   ]
  },
  {
   "cell_type": "code",
   "execution_count": 33,
   "metadata": {
    "id": "HBsRdoA6Dzbw"
   },
   "outputs": [],
   "source": [
    "odo_min = df[\"odometer\"].min()\n",
    "odo_max = df[\"odometer\"].max()\n",
    "df[\"odometer\"] = ((df[\"odometer\"] - odo_min) / (odo_max - odo_min))"
   ]
  },
  {
   "cell_type": "markdown",
   "metadata": {
    "id": "nLYjEe-bDzbw"
   },
   "source": [
    "### For Ordinal Data"
   ]
  },
  {
   "cell_type": "markdown",
   "metadata": {
    "id": "6PhJmcAUDzbx"
   },
   "source": [
    "#### cylinders"
   ]
  },
  {
   "cell_type": "code",
   "execution_count": 34,
   "metadata": {
    "id": "B8Ppjz72Dzbx"
   },
   "outputs": [],
   "source": [
    "label_encoder = LabelEncoder()\n",
    "label_encoder.fit_transform(list(df['cylinders'].astype(str).values))\n",
    "df['cylinders'] = label_encoder.transform(list(df['cylinders'].astype(str).values))"
   ]
  },
  {
   "cell_type": "code",
   "execution_count": 35,
   "metadata": {
    "id": "-uA0uHgtDzbx"
   },
   "outputs": [],
   "source": [
    "#Normalizing Cylinder\n",
    "cyl_min = df[\"cylinders\"].min()\n",
    "cyl_max = df[\"cylinders\"].max()\n",
    "df[\"cylinders\"] = ((df[\"cylinders\"] - cyl_min) / (cyl_max - cyl_min))"
   ]
  },
  {
   "cell_type": "markdown",
   "metadata": {
    "id": "mRXAtog-Dzbx"
   },
   "source": [
    "### OneHotEncoding"
   ]
  },
  {
   "cell_type": "code",
   "execution_count": 36,
   "metadata": {
    "id": "6biVL9BLDzby"
   },
   "outputs": [],
   "source": [
    "train_df = pd.get_dummies(df)"
   ]
  },
  {
   "cell_type": "code",
   "execution_count": 37,
   "metadata": {
    "colab": {
     "base_uri": "https://localhost:8080/"
    },
    "id": "ZX1owTHqDzby",
    "outputId": "dfdbe8e5-9b5d-406b-dad8-391e9ff88337"
   },
   "outputs": [
    {
     "data": {
      "text/plain": [
       "318824"
      ]
     },
     "execution_count": 37,
     "metadata": {},
     "output_type": "execute_result"
    }
   ],
   "source": [
    "len(train_df)"
   ]
  },
  {
   "cell_type": "code",
   "execution_count": 38,
   "metadata": {
    "colab": {
     "base_uri": "https://localhost:8080/",
     "height": 0
    },
    "id": "WqhEevNLDzby",
    "outputId": "5795d075-f871-44a2-edf0-1958f8eebc1c"
   },
   "outputs": [
    {
     "data": {
      "text/html": [
       "<div>\n",
       "<style scoped>\n",
       "    .dataframe tbody tr th:only-of-type {\n",
       "        vertical-align: middle;\n",
       "    }\n",
       "\n",
       "    .dataframe tbody tr th {\n",
       "        vertical-align: top;\n",
       "    }\n",
       "\n",
       "    .dataframe thead th {\n",
       "        text-align: right;\n",
       "    }\n",
       "</style>\n",
       "<table border=\"1\" class=\"dataframe\">\n",
       "  <thead>\n",
       "    <tr style=\"text-align: right;\">\n",
       "      <th></th>\n",
       "      <th>Unnamed: 0</th>\n",
       "      <th>price</th>\n",
       "      <th>year</th>\n",
       "      <th>cylinders</th>\n",
       "      <th>odometer</th>\n",
       "      <th>drive</th>\n",
       "      <th>manufacturer_acura</th>\n",
       "      <th>manufacturer_alfa-romeo</th>\n",
       "      <th>manufacturer_aston-martin</th>\n",
       "      <th>manufacturer_audi</th>\n",
       "      <th>...</th>\n",
       "      <th>type_other</th>\n",
       "      <th>type_pickup</th>\n",
       "      <th>type_sedan</th>\n",
       "      <th>type_truck</th>\n",
       "      <th>type_van</th>\n",
       "      <th>type_wagon</th>\n",
       "      <th>state_midwest</th>\n",
       "      <th>state_northeast</th>\n",
       "      <th>state_south</th>\n",
       "      <th>state_west</th>\n",
       "    </tr>\n",
       "  </thead>\n",
       "  <tbody>\n",
       "    <tr>\n",
       "      <th>0</th>\n",
       "      <td>0</td>\n",
       "      <td>10.491024</td>\n",
       "      <td>0.583333</td>\n",
       "      <td>0.857143</td>\n",
       "      <td>0.130950</td>\n",
       "      <td>2</td>\n",
       "      <td>0</td>\n",
       "      <td>0</td>\n",
       "      <td>0</td>\n",
       "      <td>0</td>\n",
       "      <td>...</td>\n",
       "      <td>1</td>\n",
       "      <td>0</td>\n",
       "      <td>0</td>\n",
       "      <td>0</td>\n",
       "      <td>0</td>\n",
       "      <td>0</td>\n",
       "      <td>0</td>\n",
       "      <td>0</td>\n",
       "      <td>1</td>\n",
       "      <td>0</td>\n",
       "    </tr>\n",
       "    <tr>\n",
       "      <th>1</th>\n",
       "      <td>1</td>\n",
       "      <td>8.922792</td>\n",
       "      <td>0.750000</td>\n",
       "      <td>0.428571</td>\n",
       "      <td>0.374431</td>\n",
       "      <td>2</td>\n",
       "      <td>0</td>\n",
       "      <td>0</td>\n",
       "      <td>0</td>\n",
       "      <td>0</td>\n",
       "      <td>...</td>\n",
       "      <td>0</td>\n",
       "      <td>0</td>\n",
       "      <td>1</td>\n",
       "      <td>0</td>\n",
       "      <td>0</td>\n",
       "      <td>0</td>\n",
       "      <td>0</td>\n",
       "      <td>0</td>\n",
       "      <td>1</td>\n",
       "      <td>0</td>\n",
       "    </tr>\n",
       "    <tr>\n",
       "      <th>2</th>\n",
       "      <td>2</td>\n",
       "      <td>8.497195</td>\n",
       "      <td>0.416667</td>\n",
       "      <td>0.714286</td>\n",
       "      <td>0.348210</td>\n",
       "      <td>2</td>\n",
       "      <td>0</td>\n",
       "      <td>0</td>\n",
       "      <td>0</td>\n",
       "      <td>0</td>\n",
       "      <td>...</td>\n",
       "      <td>0</td>\n",
       "      <td>0</td>\n",
       "      <td>0</td>\n",
       "      <td>0</td>\n",
       "      <td>0</td>\n",
       "      <td>0</td>\n",
       "      <td>0</td>\n",
       "      <td>0</td>\n",
       "      <td>1</td>\n",
       "      <td>0</td>\n",
       "    </tr>\n",
       "    <tr>\n",
       "      <th>3</th>\n",
       "      <td>5</td>\n",
       "      <td>10.295226</td>\n",
       "      <td>0.833333</td>\n",
       "      <td>0.714286</td>\n",
       "      <td>0.133143</td>\n",
       "      <td>4</td>\n",
       "      <td>0</td>\n",
       "      <td>0</td>\n",
       "      <td>0</td>\n",
       "      <td>0</td>\n",
       "      <td>...</td>\n",
       "      <td>0</td>\n",
       "      <td>1</td>\n",
       "      <td>0</td>\n",
       "      <td>0</td>\n",
       "      <td>0</td>\n",
       "      <td>0</td>\n",
       "      <td>0</td>\n",
       "      <td>0</td>\n",
       "      <td>1</td>\n",
       "      <td>0</td>\n",
       "    </tr>\n",
       "    <tr>\n",
       "      <th>4</th>\n",
       "      <td>6</td>\n",
       "      <td>10.596410</td>\n",
       "      <td>0.666667</td>\n",
       "      <td>0.857143</td>\n",
       "      <td>0.038732</td>\n",
       "      <td>2</td>\n",
       "      <td>0</td>\n",
       "      <td>0</td>\n",
       "      <td>0</td>\n",
       "      <td>0</td>\n",
       "      <td>...</td>\n",
       "      <td>0</td>\n",
       "      <td>0</td>\n",
       "      <td>0</td>\n",
       "      <td>0</td>\n",
       "      <td>0</td>\n",
       "      <td>0</td>\n",
       "      <td>0</td>\n",
       "      <td>0</td>\n",
       "      <td>1</td>\n",
       "      <td>0</td>\n",
       "    </tr>\n",
       "  </tbody>\n",
       "</table>\n",
       "<p>5 rows × 80 columns</p>\n",
       "</div>"
      ],
      "text/plain": [
       "   Unnamed: 0      price      year  cylinders  odometer  drive  \\\n",
       "0           0  10.491024  0.583333   0.857143  0.130950      2   \n",
       "1           1   8.922792  0.750000   0.428571  0.374431      2   \n",
       "2           2   8.497195  0.416667   0.714286  0.348210      2   \n",
       "3           5  10.295226  0.833333   0.714286  0.133143      4   \n",
       "4           6  10.596410  0.666667   0.857143  0.038732      2   \n",
       "\n",
       "   manufacturer_acura  manufacturer_alfa-romeo  manufacturer_aston-martin  \\\n",
       "0                   0                        0                          0   \n",
       "1                   0                        0                          0   \n",
       "2                   0                        0                          0   \n",
       "3                   0                        0                          0   \n",
       "4                   0                        0                          0   \n",
       "\n",
       "   manufacturer_audi  ...  type_other  type_pickup  type_sedan  type_truck  \\\n",
       "0                  0  ...           1            0           0           0   \n",
       "1                  0  ...           0            0           1           0   \n",
       "2                  0  ...           0            0           0           0   \n",
       "3                  0  ...           0            1           0           0   \n",
       "4                  0  ...           0            0           0           0   \n",
       "\n",
       "   type_van  type_wagon  state_midwest  state_northeast  state_south  \\\n",
       "0         0           0              0                0            1   \n",
       "1         0           0              0                0            1   \n",
       "2         0           0              0                0            1   \n",
       "3         0           0              0                0            1   \n",
       "4         0           0              0                0            1   \n",
       "\n",
       "   state_west  \n",
       "0           0  \n",
       "1           0  \n",
       "2           0  \n",
       "3           0  \n",
       "4           0  \n",
       "\n",
       "[5 rows x 80 columns]"
      ]
     },
     "execution_count": 38,
     "metadata": {},
     "output_type": "execute_result"
    }
   ],
   "source": [
    "train_df.head()"
   ]
  },
  {
   "cell_type": "markdown",
   "metadata": {
    "id": "OObIFgNXDzby"
   },
   "source": [
    "### Splitting the Data into test and train"
   ]
  },
  {
   "cell_type": "code",
   "execution_count": 39,
   "metadata": {
    "id": "PvnwzNGcDzby"
   },
   "outputs": [],
   "source": [
    "y = train_df[\"price\"]\n",
    "x = train_df.drop(['price', 'Unnamed: 0'], axis=1)\n",
    "x_train,x_test,y_train,y_test = sklearn.model_selection.train_test_split(x,y,test_size=0.2,random_state=42)"
   ]
  },
  {
   "cell_type": "code",
   "execution_count": 40,
   "metadata": {
    "colab": {
     "base_uri": "https://localhost:8080/",
     "height": 0
    },
    "id": "YCW77xVTDzbz",
    "outputId": "2b9b2d88-d758-4266-f12f-ec8845620453"
   },
   "outputs": [
    {
     "data": {
      "text/html": [
       "<div>\n",
       "<style scoped>\n",
       "    .dataframe tbody tr th:only-of-type {\n",
       "        vertical-align: middle;\n",
       "    }\n",
       "\n",
       "    .dataframe tbody tr th {\n",
       "        vertical-align: top;\n",
       "    }\n",
       "\n",
       "    .dataframe thead th {\n",
       "        text-align: right;\n",
       "    }\n",
       "</style>\n",
       "<table border=\"1\" class=\"dataframe\">\n",
       "  <thead>\n",
       "    <tr style=\"text-align: right;\">\n",
       "      <th></th>\n",
       "      <th>year</th>\n",
       "      <th>cylinders</th>\n",
       "      <th>odometer</th>\n",
       "      <th>drive</th>\n",
       "      <th>manufacturer_acura</th>\n",
       "      <th>manufacturer_alfa-romeo</th>\n",
       "      <th>manufacturer_aston-martin</th>\n",
       "      <th>manufacturer_audi</th>\n",
       "      <th>manufacturer_bmw</th>\n",
       "      <th>manufacturer_buick</th>\n",
       "      <th>...</th>\n",
       "      <th>type_other</th>\n",
       "      <th>type_pickup</th>\n",
       "      <th>type_sedan</th>\n",
       "      <th>type_truck</th>\n",
       "      <th>type_van</th>\n",
       "      <th>type_wagon</th>\n",
       "      <th>state_midwest</th>\n",
       "      <th>state_northeast</th>\n",
       "      <th>state_south</th>\n",
       "      <th>state_west</th>\n",
       "    </tr>\n",
       "  </thead>\n",
       "  <tbody>\n",
       "    <tr>\n",
       "      <th>220052</th>\n",
       "      <td>0.958333</td>\n",
       "      <td>0.714286</td>\n",
       "      <td>0.040324</td>\n",
       "      <td>2</td>\n",
       "      <td>0</td>\n",
       "      <td>0</td>\n",
       "      <td>0</td>\n",
       "      <td>0</td>\n",
       "      <td>0</td>\n",
       "      <td>0</td>\n",
       "      <td>...</td>\n",
       "      <td>0</td>\n",
       "      <td>1</td>\n",
       "      <td>0</td>\n",
       "      <td>0</td>\n",
       "      <td>0</td>\n",
       "      <td>0</td>\n",
       "      <td>0</td>\n",
       "      <td>0</td>\n",
       "      <td>1</td>\n",
       "      <td>0</td>\n",
       "    </tr>\n",
       "    <tr>\n",
       "      <th>10665</th>\n",
       "      <td>0.333333</td>\n",
       "      <td>0.428571</td>\n",
       "      <td>0.273475</td>\n",
       "      <td>2</td>\n",
       "      <td>0</td>\n",
       "      <td>0</td>\n",
       "      <td>0</td>\n",
       "      <td>0</td>\n",
       "      <td>0</td>\n",
       "      <td>0</td>\n",
       "      <td>...</td>\n",
       "      <td>0</td>\n",
       "      <td>0</td>\n",
       "      <td>0</td>\n",
       "      <td>0</td>\n",
       "      <td>0</td>\n",
       "      <td>0</td>\n",
       "      <td>0</td>\n",
       "      <td>0</td>\n",
       "      <td>0</td>\n",
       "      <td>1</td>\n",
       "    </tr>\n",
       "    <tr>\n",
       "      <th>102772</th>\n",
       "      <td>0.750000</td>\n",
       "      <td>0.428571</td>\n",
       "      <td>0.308018</td>\n",
       "      <td>2</td>\n",
       "      <td>0</td>\n",
       "      <td>0</td>\n",
       "      <td>0</td>\n",
       "      <td>0</td>\n",
       "      <td>0</td>\n",
       "      <td>0</td>\n",
       "      <td>...</td>\n",
       "      <td>0</td>\n",
       "      <td>0</td>\n",
       "      <td>1</td>\n",
       "      <td>0</td>\n",
       "      <td>0</td>\n",
       "      <td>0</td>\n",
       "      <td>1</td>\n",
       "      <td>0</td>\n",
       "      <td>0</td>\n",
       "      <td>0</td>\n",
       "    </tr>\n",
       "    <tr>\n",
       "      <th>90016</th>\n",
       "      <td>0.791667</td>\n",
       "      <td>0.428571</td>\n",
       "      <td>0.528394</td>\n",
       "      <td>4</td>\n",
       "      <td>0</td>\n",
       "      <td>0</td>\n",
       "      <td>0</td>\n",
       "      <td>0</td>\n",
       "      <td>0</td>\n",
       "      <td>0</td>\n",
       "      <td>...</td>\n",
       "      <td>0</td>\n",
       "      <td>0</td>\n",
       "      <td>1</td>\n",
       "      <td>0</td>\n",
       "      <td>0</td>\n",
       "      <td>0</td>\n",
       "      <td>0</td>\n",
       "      <td>0</td>\n",
       "      <td>0</td>\n",
       "      <td>1</td>\n",
       "    </tr>\n",
       "    <tr>\n",
       "      <th>294161</th>\n",
       "      <td>0.708333</td>\n",
       "      <td>1.000000</td>\n",
       "      <td>0.386033</td>\n",
       "      <td>4</td>\n",
       "      <td>0</td>\n",
       "      <td>0</td>\n",
       "      <td>0</td>\n",
       "      <td>0</td>\n",
       "      <td>0</td>\n",
       "      <td>0</td>\n",
       "      <td>...</td>\n",
       "      <td>0</td>\n",
       "      <td>0</td>\n",
       "      <td>0</td>\n",
       "      <td>1</td>\n",
       "      <td>0</td>\n",
       "      <td>0</td>\n",
       "      <td>1</td>\n",
       "      <td>0</td>\n",
       "      <td>0</td>\n",
       "      <td>0</td>\n",
       "    </tr>\n",
       "  </tbody>\n",
       "</table>\n",
       "<p>5 rows × 78 columns</p>\n",
       "</div>"
      ],
      "text/plain": [
       "            year  cylinders  odometer  drive  manufacturer_acura  \\\n",
       "220052  0.958333   0.714286  0.040324      2                   0   \n",
       "10665   0.333333   0.428571  0.273475      2                   0   \n",
       "102772  0.750000   0.428571  0.308018      2                   0   \n",
       "90016   0.791667   0.428571  0.528394      4                   0   \n",
       "294161  0.708333   1.000000  0.386033      4                   0   \n",
       "\n",
       "        manufacturer_alfa-romeo  manufacturer_aston-martin  manufacturer_audi  \\\n",
       "220052                        0                          0                  0   \n",
       "10665                         0                          0                  0   \n",
       "102772                        0                          0                  0   \n",
       "90016                         0                          0                  0   \n",
       "294161                        0                          0                  0   \n",
       "\n",
       "        manufacturer_bmw  manufacturer_buick  ...  type_other  type_pickup  \\\n",
       "220052                 0                   0  ...           0            1   \n",
       "10665                  0                   0  ...           0            0   \n",
       "102772                 0                   0  ...           0            0   \n",
       "90016                  0                   0  ...           0            0   \n",
       "294161                 0                   0  ...           0            0   \n",
       "\n",
       "        type_sedan  type_truck  type_van  type_wagon  state_midwest  \\\n",
       "220052           0           0         0           0              0   \n",
       "10665            0           0         0           0              0   \n",
       "102772           1           0         0           0              1   \n",
       "90016            1           0         0           0              0   \n",
       "294161           0           1         0           0              1   \n",
       "\n",
       "        state_northeast  state_south  state_west  \n",
       "220052                0            1           0  \n",
       "10665                 0            0           1  \n",
       "102772                0            0           0  \n",
       "90016                 0            0           1  \n",
       "294161                0            0           0  \n",
       "\n",
       "[5 rows x 78 columns]"
      ]
     },
     "execution_count": 40,
     "metadata": {},
     "output_type": "execute_result"
    }
   ],
   "source": [
    "x_train.head()"
   ]
  },
  {
   "cell_type": "markdown",
   "metadata": {
    "id": "bAM-7UHuS3Mf"
   },
   "source": [
    "# Lasso"
   ]
  },
  {
   "cell_type": "code",
   "execution_count": 41,
   "metadata": {
    "colab": {
     "base_uri": "https://localhost:8080/"
    },
    "id": "e_ccATbHLqNO",
    "outputId": "3a45caae-38a0-4f99-de3f-b58fc63eb2bc"
   },
   "outputs": [
    {
     "name": "stdout",
     "output_type": "stream",
     "text": [
      "0.0025379360918370564\n"
     ]
    }
   ],
   "source": [
    "parameters={'alpha': uniform()}\n",
    "tuningModel = Lasso()\n",
    "rand_search = RandomizedSearchCV(estimator=tuningModel,param_distributions=parameters,n_iter=150)\n",
    "rand_search.fit(x_train,y_train)\n",
    "print(rand_search.best_estimator_.alpha)\n",
    "# print(rand_search.best_score_)"
   ]
  },
  {
   "cell_type": "code",
   "execution_count": 42,
   "metadata": {
    "id": "LY0XGTqap_-C"
   },
   "outputs": [],
   "source": [
    "bestAlphaRange=rand_search.best_estimator_.alpha\n",
    "alpha =[10**i for i in range(-6,2)]\n",
    "alpha.append(bestAlphaRange)"
   ]
  },
  {
   "cell_type": "code",
   "execution_count": 43,
   "metadata": {
    "colab": {
     "base_uri": "https://localhost:8080/"
    },
    "id": "KV2LUsLPrPkb",
    "outputId": "6bf1df0e-5932-4189-e0eb-25b67d3d93da"
   },
   "outputs": [
    {
     "name": "stderr",
     "output_type": "stream",
     "text": [
      "C:\\Users\\HP\\anaconda3\\lib\\site-packages\\sklearn\\linear_model\\_coordinate_descent.py:529: ConvergenceWarning: Objective did not converge. You might want to increase the number of iterations. Duality gap: 1694.4159677524367, tolerance: 13.605174454675156\n",
      "  model = cd_fast.enet_coordinate_descent(\n"
     ]
    },
    {
     "name": "stdout",
     "output_type": "stream",
     "text": [
      "ALPHA VALUE 1e-06\n",
      "Test RMSE 0.3577271286344668\n",
      "Test R-Squared 0.758549273907897\n",
      "Train RMSE 0.35572003162504234\n",
      "Train R-Squared 0.7627789727756891\n",
      "*********************************************************************\n"
     ]
    },
    {
     "name": "stderr",
     "output_type": "stream",
     "text": [
      "C:\\Users\\HP\\anaconda3\\lib\\site-packages\\sklearn\\linear_model\\_coordinate_descent.py:529: ConvergenceWarning: Objective did not converge. You might want to increase the number of iterations. Duality gap: 1266.8710806297386, tolerance: 13.605174454675156\n",
      "  model = cd_fast.enet_coordinate_descent(\n"
     ]
    },
    {
     "name": "stdout",
     "output_type": "stream",
     "text": [
      "ALPHA VALUE 1e-05\n",
      "Test RMSE 0.3577376813511083\n",
      "Test R-Squared 0.7585350284203565\n",
      "Train RMSE 0.35573125958374835\n",
      "Train R-Squared 0.7627639972348335\n",
      "*********************************************************************\n",
      "ALPHA VALUE 0.0001\n",
      "Test RMSE 0.35800642124440807\n",
      "Test R-Squared 0.7581721052623576\n",
      "Train RMSE 0.3559426562152802\n",
      "Train R-Squared 0.7624819540247998\n",
      "*********************************************************************\n",
      "ALPHA VALUE 0.001\n",
      "Test RMSE 0.3645389359765643\n",
      "Test R-Squared 0.7492663598641383\n",
      "Train RMSE 0.3621956903368014\n",
      "Train R-Squared 0.7540634397304572\n",
      "*********************************************************************\n",
      "ALPHA VALUE 0.01\n",
      "Test RMSE 0.40863593075380894\n",
      "Test R-Squared 0.6849366661143157\n",
      "Train RMSE 0.40661855024290827\n",
      "Train R-Squared 0.6900362454153848\n",
      "*********************************************************************\n",
      "ALPHA VALUE 0.1\n",
      "Test RMSE 0.7053536275225668\n",
      "Test R-Squared 0.061274596148572\n",
      "Train RMSE 0.707228428227793\n",
      "Train R-Squared 0.06231718492260707\n",
      "*********************************************************************\n",
      "ALPHA VALUE 1\n",
      "Test RMSE 0.7280217799752711\n",
      "Test R-Squared -3.1101122274224124e-05\n",
      "Train RMSE 0.7303511730920696\n",
      "Train R-Squared 0.0\n",
      "*********************************************************************\n",
      "ALPHA VALUE 10\n",
      "Test RMSE 0.7280217799752711\n",
      "Test R-Squared -3.1101122274224124e-05\n",
      "Train RMSE 0.7303511730920696\n",
      "Train R-Squared 0.0\n",
      "*********************************************************************\n",
      "ALPHA VALUE 0.0025379360918370564\n",
      "Test RMSE 0.37524592656020955\n",
      "Test R-Squared 0.7343213012103522\n",
      "Train RMSE 0.37265643784320995\n",
      "Train R-Squared 0.7396522706544557\n",
      "*********************************************************************\n"
     ]
    }
   ],
   "source": [
    "lasso_regression_dict={}\n",
    "for alphavalue in alpha:\n",
    "  lassoRegressor=Lasso(alpha=alphavalue)\n",
    "  lassoRegressor.fit(x_train,y_train)\n",
    "  lassoTrainPrediction=lassoRegressor.predict(x_train)\n",
    "  lassoTestPrediction=lassoRegressor.predict(x_test)\n",
    "  testRmse=math.sqrt(mean_squared_error(y_test,lassoTestPrediction))\n",
    "  trainRmse=math.sqrt(mean_squared_error(y_train,lassoTrainPrediction))\n",
    "  print(\"ALPHA VALUE {}\".format(alphavalue))\n",
    "  print(\"Test RMSE {0}\".format(testRmse))\n",
    "  lassoRSquaredTest=lassoRegressor.score(x_test, y_test)\n",
    "  print(\"Test R-Squared {0}\".format(lassoRSquaredTest))\n",
    "  print(\"Train RMSE {0}\".format(trainRmse))\n",
    "  lassoRSquaredTrain=lassoRegressor.score(x_train,y_train)\n",
    "  print(\"Train R-Squared {0}\".format(lassoRSquaredTrain))\n",
    "  lasso_regression_dict[alphavalue]=[testRmse,lassoRSquaredTest,trainRmse,lassoRSquaredTrain]\n",
    "  print('*********************************************************************')"
   ]
  },
  {
   "cell_type": "code",
   "execution_count": 45,
   "metadata": {},
   "outputs": [],
   "source": [
    "ridgeCSVResult=pd.DataFrame.from_dict(lasso_regression_dict,orient='index',columns=[\"testRmse\",\"lassoRSquaredTest\",\"trainRmse\",\"lassoRSquaredTrain\"])\n",
    "ridgeCSVResult.to_csv('LassoResults.csv')"
   ]
  },
  {
   "cell_type": "markdown",
   "metadata": {},
   "source": [
    "# Ridge "
   ]
  },
  {
   "cell_type": "code",
   "execution_count": 46,
   "metadata": {
    "colab": {
     "base_uri": "https://localhost:8080/"
    },
    "id": "iRG4O3OQ2Gey",
    "outputId": "9ce69817-a4a7-4e6a-da28-433a3ce9c8e3"
   },
   "outputs": [
    {
     "name": "stdout",
     "output_type": "stream",
     "text": [
      "0.4160036442589067\n"
     ]
    }
   ],
   "source": [
    "parameters= {'alpha': uniform()}\n",
    "tuningRegressorRidge=Ridge()\n",
    "randomSearch = RandomizedSearchCV(estimator=tuningRegressorRidge,param_distributions=parameters,n_iter=250)\n",
    "randomSearch.fit(x_train,y_train)\n",
    "print(randomSearch.best_estimator_.alpha)"
   ]
  },
  {
   "cell_type": "code",
   "execution_count": 47,
   "metadata": {
    "id": "RQHPkQA668lm"
   },
   "outputs": [
    {
     "name": "stdout",
     "output_type": "stream",
     "text": [
      "[1e-06, 1e-05, 0.0001, 0.001, 0.01, 0.1, 1, 10, 0.4160036442589067]\n"
     ]
    }
   ],
   "source": [
    "bestAlphaRangeRidge=randomSearch.best_estimator_.alpha\n",
    "alphaRidge =[10**i for i in range(-6,2)]\n",
    "alphaRidge.append(bestAlphaRangeRidge)\n",
    "print(alphaRidge)\n"
   ]
  },
  {
   "cell_type": "code",
   "execution_count": 48,
   "metadata": {
    "colab": {
     "base_uri": "https://localhost:8080/"
    },
    "id": "ODB4QS1MT6qz",
    "outputId": "8dfefddf-3b95-4fb2-8a4b-0f9d4db48922"
   },
   "outputs": [
    {
     "name": "stdout",
     "output_type": "stream",
     "text": [
      "[1e-06, 1e-05, 0.0001, 0.001, 0.01, 0.1, 1, 10, 0.4160036442589067]\n"
     ]
    }
   ],
   "source": [
    "print(alphaRidge)"
   ]
  },
  {
   "cell_type": "code",
   "execution_count": 49,
   "metadata": {
    "colab": {
     "base_uri": "https://localhost:8080/"
    },
    "id": "4oIwtQG22Tlr",
    "outputId": "62e7f649-124a-4368-ccf8-d2f834b88fe8"
   },
   "outputs": [
    {
     "name": "stdout",
     "output_type": "stream",
     "text": [
      "ALPHA VALUE 1e-06\n",
      "Test RMSE 0.3577267309769049\n",
      "Test R-Squared 0.7585498107117679\n",
      "Train RMSE 0.35571960463636026\n",
      "Train R-Squared 0.7627795422720569\n",
      "*********************************************************************\n",
      "ALPHA VALUE 1e-05\n",
      "Test RMSE 0.35772673098108665\n",
      "Test R-Squared 0.7585498107061229\n",
      "Train RMSE 0.3557196046363609\n",
      "Train R-Squared 0.762779542272056\n",
      "*********************************************************************\n",
      "ALPHA VALUE 0.0001\n",
      "Test RMSE 0.35772673102291663\n",
      "Test R-Squared 0.758549810649656\n",
      "Train RMSE 0.3557196046364203\n",
      "Train R-Squared 0.7627795422719768\n",
      "*********************************************************************\n",
      "ALPHA VALUE 0.001\n",
      "Test RMSE 0.3577267314424507\n",
      "Test R-Squared 0.758549810083321\n",
      "Train RMSE 0.355719604642346\n",
      "Train R-Squared 0.7627795422640734\n",
      "*********************************************************************\n",
      "ALPHA VALUE 0.01\n",
      "Test RMSE 0.35772673576111913\n",
      "Test R-Squared 0.7585498042534893\n",
      "Train RMSE 0.3557196052260141\n",
      "Train R-Squared 0.7627795414856062\n",
      "*********************************************************************\n",
      "ALPHA VALUE 0.1\n",
      "Test RMSE 0.3577267911611614\n",
      "Test R-Squared 0.7585497294681811\n",
      "Train RMSE 0.35571965580819676\n",
      "Train R-Squared 0.7627794740216305\n",
      "*********************************************************************\n",
      "ALPHA VALUE 1\n",
      "Test RMSE 0.3577284003772513\n",
      "Test R-Squared 0.7585475571593479\n",
      "Train RMSE 0.3557216703787405\n",
      "Train R-Squared 0.76277678708078\n",
      "*********************************************************************\n",
      "ALPHA VALUE 10\n",
      "Test RMSE 0.3577687714084471\n",
      "Test R-Squared 0.7584930564033339\n",
      "Train RMSE 0.35574812503081765\n",
      "Train R-Squared 0.7627415016796246\n",
      "*********************************************************************\n",
      "ALPHA VALUE 0.4160036442589067\n",
      "Test RMSE 0.35772715242573583\n",
      "Test R-Squared 0.7585492417916894\n",
      "Train RMSE 0.3557201966007355\n",
      "Train R-Squared 0.7627787527390928\n",
      "*********************************************************************\n"
     ]
    }
   ],
   "source": [
    "ridge_regression_dict={}\n",
    "for alphavalue1 in alphaRidge:\n",
    "  ridgeRegressor=Ridge(alpha=alphavalue1)\n",
    "  ridgeRegressor.fit(x_train,y_train)\n",
    "  trainPrediction=ridgeRegressor.predict(x_train)\n",
    "  testPrediction=ridgeRegressor.predict(x_test)\n",
    "  testRmseRidge=math.sqrt(mean_squared_error(y_test,testPrediction))\n",
    "  trainRmseRidge=math.sqrt(mean_squared_error(y_train,trainPrediction))\n",
    "  print(\"ALPHA VALUE {}\".format(alphavalue1))\n",
    "  print(\"Test RMSE {0}\".format(testRmseRidge))\n",
    "  ridgeRSquaredTest=ridgeRegressor.score(x_test, y_test)\n",
    "  print(\"Test R-Squared {0}\".format(ridgeRSquaredTest))\n",
    "  print(\"Train RMSE {0}\".format(trainRmseRidge))\n",
    "  ridgeRSquaredTrain=ridgeRegressor.score(x_train,y_train)\n",
    "  print(\"Train R-Squared {0}\".format(ridgeRSquaredTrain))\n",
    "  ridge_regression_dict[alphavalue1]=[testRmseRidge,ridgeRSquaredTest,trainRmseRidge,ridgeRSquaredTrain]\n",
    "  print('*********************************************************************')"
   ]
  },
  {
   "cell_type": "code",
   "execution_count": 50,
   "metadata": {
    "colab": {
     "base_uri": "https://localhost:8080/"
    },
    "id": "-Xcuf5Fg3Q9j",
    "outputId": "7800b0e6-c860-44f8-aca8-0092fad0b564"
   },
   "outputs": [
    {
     "data": {
      "text/plain": [
       "{1e-06: [0.3577267309769049,\n",
       "  0.7585498107117679,\n",
       "  0.35571960463636026,\n",
       "  0.7627795422720569],\n",
       " 1e-05: [0.35772673098108665,\n",
       "  0.7585498107061229,\n",
       "  0.3557196046363609,\n",
       "  0.762779542272056],\n",
       " 0.0001: [0.35772673102291663,\n",
       "  0.758549810649656,\n",
       "  0.3557196046364203,\n",
       "  0.7627795422719768],\n",
       " 0.001: [0.3577267314424507,\n",
       "  0.758549810083321,\n",
       "  0.355719604642346,\n",
       "  0.7627795422640734],\n",
       " 0.01: [0.35772673576111913,\n",
       "  0.7585498042534893,\n",
       "  0.3557196052260141,\n",
       "  0.7627795414856062],\n",
       " 0.1: [0.3577267911611614,\n",
       "  0.7585497294681811,\n",
       "  0.35571965580819676,\n",
       "  0.7627794740216305],\n",
       " 1: [0.3577284003772513,\n",
       "  0.7585475571593479,\n",
       "  0.3557216703787405,\n",
       "  0.76277678708078],\n",
       " 10: [0.3577687714084471,\n",
       "  0.7584930564033339,\n",
       "  0.35574812503081765,\n",
       "  0.7627415016796246],\n",
       " 0.4160036442589067: [0.35772715242573583,\n",
       "  0.7585492417916894,\n",
       "  0.3557201966007355,\n",
       "  0.7627787527390928]}"
      ]
     },
     "execution_count": 50,
     "metadata": {},
     "output_type": "execute_result"
    }
   ],
   "source": [
    "ridge_regression_dict"
   ]
  },
  {
   "cell_type": "code",
   "execution_count": 51,
   "metadata": {
    "id": "8bW2TEkV4Lpr"
   },
   "outputs": [],
   "source": [
    "ridgeCSVResult=pd.DataFrame.from_dict(ridge_regression_dict,orient='index',columns=[\"testRmseRidge\",\"ridgeRSquaredTest\",\"trainRmseRidge\",\"ridgeRSquaredTrain\"])"
   ]
  },
  {
   "cell_type": "code",
   "execution_count": 52,
   "metadata": {
    "id": "7TnRegnh4VaL"
   },
   "outputs": [],
   "source": [
    "ridgeCSVResult.to_csv('RidgeResults.csv')"
   ]
  },
  {
   "cell_type": "code",
   "execution_count": null,
   "metadata": {
    "id": "gsOS93my47mS"
   },
   "outputs": [],
   "source": []
  },
  {
   "cell_type": "code",
   "execution_count": null,
   "metadata": {},
   "outputs": [],
   "source": []
  }
 ],
 "metadata": {
  "colab": {
   "collapsed_sections": [
    "RF3SV4boDzbv",
    "T9GcZyR7Dzbw",
    "nLYjEe-bDzbw",
    "6PhJmcAUDzbx",
    "mRXAtog-Dzbx",
    "OObIFgNXDzby",
    "Tx1D0FxNDzbz",
    "rEkKvILsDzbz",
    "rwvUG9YeDzb1",
    "zB-LdP0WDzb1",
    "D5m6NhdCDzb1",
    "7a-HcqXADzb2",
    "RRDdMztVDzb3",
    "yV-fMGkGIgoq",
    "7tYPBHnzltoB"
   ],
   "name": "Modelling_and_Validation-Copy2.ipynb",
   "provenance": []
  },
  "kernelspec": {
   "display_name": "Python 3",
   "language": "python",
   "name": "python3"
  },
  "language_info": {
   "codemirror_mode": {
    "name": "ipython",
    "version": 3
   },
   "file_extension": ".py",
   "mimetype": "text/x-python",
   "name": "python",
   "nbconvert_exporter": "python",
   "pygments_lexer": "ipython3",
   "version": "3.8.5"
  }
 },
 "nbformat": 4,
 "nbformat_minor": 1
}
